{
 "cells": [
  {
   "cell_type": "code",
   "execution_count": 4,
   "id": "b4c38db4-3893-4082-8b71-80db758d7b3a",
   "metadata": {},
   "outputs": [],
   "source": [
    "# Install the gdown library\n",
    "# ! pip install gdown"
   ]
  },
  {
   "cell_type": "code",
   "execution_count": 5,
   "id": "14c43ccb",
   "metadata": {},
   "outputs": [],
   "source": [
    "import pickle\n",
    "import gdown\n",
    "import pandas as pd\n",
    "import numpy as np\n",
    "import tensorflow as tf\n",
    "from tensorflow.keras.models import load_model\n",
    "from sklearn.metrics import accuracy_score"
   ]
  },
  {
   "cell_type": "markdown",
   "id": "3a7e0f84",
   "metadata": {},
   "source": [
    "## Part 1\n",
    "Download the preprocessed test set and labels saved in Google Drive:"
   ]
  },
  {
   "cell_type": "code",
   "execution_count": null,
   "id": "309d5b2e",
   "metadata": {},
   "outputs": [],
   "source": [
    "destination = \"./test_data.npy\"\n",
    "gdown.download(\"https://drive.google.com/uc?id=1AhOyj5JJKfp3rfPtj38dk4lQGSYe1b8r\", destination, quiet=False)"
   ]
  },
  {
   "cell_type": "code",
   "execution_count": null,
   "id": "947134a7",
   "metadata": {},
   "outputs": [],
   "source": [
    "destination = \"./labels_test.npy\"\n",
    "gdown.download(\"https://drive.google.com/uc?id=1wUB_cbm-IsW-t1CFPYXJSWPXyNWzO4vF\", destination, quiet=False)"
   ]
  },
  {
   "cell_type": "code",
   "execution_count": 8,
   "id": "87ccb233",
   "metadata": {},
   "outputs": [],
   "source": [
    "labels_test = np.load(\"labels_test.npy\")\n",
    "test_data = np.load(\"test_data.npy\")"
   ]
  },
  {
   "cell_type": "markdown",
   "id": "81ade568",
   "metadata": {},
   "source": [
    "\n",
    "### 1st best model : On the fly embeddings model on lyrics only\n",
    "\n",
    "Download the model from Google Drive"
   ]
  },
  {
   "cell_type": "code",
   "execution_count": null,
   "id": "be363233",
   "metadata": {
    "scrolled": true
   },
   "outputs": [],
   "source": [
    "destination = \"./on_the_fly_embeddings_lyrics_only.h5\"\n",
    "gdown.download(\"https://drive.google.com/uc?id=1JM4fj9Z5AL56WM6MrFxDs1wp9Coml98i\", destination, quiet=False)"
   ]
  },
  {
   "cell_type": "code",
   "execution_count": 10,
   "id": "57a3018d",
   "metadata": {},
   "outputs": [
    {
     "name": "stderr",
     "output_type": "stream",
     "text": [
      "WARNING:absl:Compiled the loaded model, but the compiled metrics have yet to be built. `model.compile_metrics` will be empty until you train or evaluate the model.\n"
     ]
    }
   ],
   "source": [
    "model_on_the_fly = load_model(\"on_the_fly_embeddings_lyrics_only.h5\")"
   ]
  },
  {
   "cell_type": "code",
   "execution_count": 11,
   "id": "2a789da9",
   "metadata": {},
   "outputs": [
    {
     "data": {
      "text/plain": [
       "<Sequential name=sequential, built=True>"
      ]
     },
     "execution_count": 11,
     "metadata": {},
     "output_type": "execute_result"
    }
   ],
   "source": [
    "model_on_the_fly"
   ]
  },
  {
   "cell_type": "markdown",
   "id": "2611e9e7",
   "metadata": {},
   "source": [
    "The model is evaluated on the test set"
   ]
  },
  {
   "cell_type": "code",
   "execution_count": 12,
   "id": "aeb38d6c",
   "metadata": {},
   "outputs": [
    {
     "name": "stdout",
     "output_type": "stream",
     "text": [
      "\u001b[1m363/363\u001b[0m \u001b[32m━━━━━━━━━━━━━━━━━━━━\u001b[0m\u001b[37m\u001b[0m \u001b[1m2s\u001b[0m 3ms/step - accuracy: 0.4253 - loss: 1.8255\n",
      "On the fly Embeddings Accuracy: 0.4222815930843353\n",
      "On the fly Embeddings Loss: 1.860418677330017\n"
     ]
    }
   ],
   "source": [
    "on_the_fly_loss, on_the_fly_accuracy = model_on_the_fly.evaluate(test_data, labels_test)\n",
    "print(\"On the fly Embeddings Accuracy:\", on_the_fly_accuracy)\n",
    "print(\"On the fly Embeddings Loss:\", on_the_fly_loss)"
   ]
  },
  {
   "cell_type": "markdown",
   "id": "68a5cae2-d122-4b9f-b4f9-4a48a7352bb1",
   "metadata": {},
   "source": [
    "Traning accuracy : 72%\n",
    "\n",
    "Validation accuracy: 61%\n",
    "\n",
    "As we can see, during testing the model is overfitting and giving an accuracy of nearly 42%."
   ]
  },
  {
   "cell_type": "markdown",
   "id": "0f8aa269",
   "metadata": {},
   "source": [
    "### 2nd best model : Pre trained Embeddings\n",
    "\n",
    "Download the model from Google Drive:"
   ]
  },
  {
   "cell_type": "code",
   "execution_count": null,
   "id": "464170b0",
   "metadata": {},
   "outputs": [],
   "source": [
    "destination = \"./pretrained_embeddings_lyrics_only.h5\"\n",
    "gdown.download(\"https://drive.google.com/uc?id=1CX4n5D3QXihbEUtzx8EmEDdK8EKQ9pJ9\", destination, quiet=False)"
   ]
  },
  {
   "cell_type": "code",
   "execution_count": 14,
   "id": "a42ce47f",
   "metadata": {},
   "outputs": [
    {
     "name": "stderr",
     "output_type": "stream",
     "text": [
      "WARNING:absl:Compiled the loaded model, but the compiled metrics have yet to be built. `model.compile_metrics` will be empty until you train or evaluate the model.\n"
     ]
    }
   ],
   "source": [
    "model_pretrained_embeddings = load_model(\"pretrained_embeddings_lyrics_only.h5\")"
   ]
  },
  {
   "cell_type": "code",
   "execution_count": 15,
   "id": "67be6528",
   "metadata": {},
   "outputs": [
    {
     "data": {
      "text/plain": [
       "<Sequential name=sequential, built=True>"
      ]
     },
     "execution_count": 15,
     "metadata": {},
     "output_type": "execute_result"
    }
   ],
   "source": [
    "model_pretrained_embeddings"
   ]
  },
  {
   "cell_type": "markdown",
   "id": "dcbba7df",
   "metadata": {},
   "source": [
    "Download the pretrained test Embeddings"
   ]
  },
  {
   "cell_type": "code",
   "execution_count": null,
   "id": "89ecd3bb",
   "metadata": {},
   "outputs": [],
   "source": [
    "destination = \"./embeddings_test.npy\"\n",
    "gdown.download(\"https://drive.google.com/uc?id=1RpKGsXHCXyGd4ArekwXfHkPkTkE0kK_k\", destination, quiet=False)"
   ]
  },
  {
   "cell_type": "code",
   "execution_count": 17,
   "id": "ab583b54",
   "metadata": {},
   "outputs": [],
   "source": [
    "embeddings_test = np.load(\"embeddings_test.npy\")"
   ]
  },
  {
   "cell_type": "markdown",
   "id": "3f11608d",
   "metadata": {},
   "source": [
    "The model is evaluated on the test set:"
   ]
  },
  {
   "cell_type": "code",
   "execution_count": 18,
   "id": "e35c8914",
   "metadata": {},
   "outputs": [
    {
     "name": "stdout",
     "output_type": "stream",
     "text": [
      "\u001b[1m363/363\u001b[0m \u001b[32m━━━━━━━━━━━━━━━━━━━━\u001b[0m\u001b[37m\u001b[0m \u001b[1m1s\u001b[0m 2ms/step - accuracy: 0.5745 - loss: 1.1803\n",
      "On the fly Embeddings Accuracy: 0.5709115862846375\n",
      "On the fly Embeddings Loss: 1.1998653411865234\n"
     ]
    }
   ],
   "source": [
    "pretrained_embeddings_loss, pretrained_embeddings_accuracy = model_pretrained_embeddings.evaluate(embeddings_test, labels_test)\n",
    "print(\"On the fly Embeddings Accuracy:\", pretrained_embeddings_accuracy)\n",
    "print(\"On the fly Embeddings Loss:\", pretrained_embeddings_loss)"
   ]
  },
  {
   "cell_type": "markdown",
   "id": "767293cc-bb26-40f3-be54-649770ed1187",
   "metadata": {},
   "source": [
    "Traning accuracy : 57%\n",
    "\n",
    "Validation accuracy: 56%\n",
    "\n",
    "As we can see, during testing the model is not overfitting and giving an accuracy of nearly 57%."
   ]
  },
  {
   "cell_type": "markdown",
   "id": "d76e5323",
   "metadata": {},
   "source": [
    "## Part 2\n",
    "Load the dataset:"
   ]
  },
  {
   "cell_type": "code",
   "execution_count": 19,
   "id": "1253a9b2",
   "metadata": {},
   "outputs": [],
   "source": [
    "from keras.datasets import cifar100\n",
    "from sklearn.model_selection import train_test_split"
   ]
  },
  {
   "cell_type": "code",
   "execution_count": 20,
   "id": "b94284bc",
   "metadata": {},
   "outputs": [],
   "source": [
    "# Load the CIFAR-100 dataset\n",
    "(x_all, y_all), (_, _) = cifar100.load_data(label_mode='fine')\n",
    "\n",
    "# Getting the unique class labels in the dataset\n",
    "classes = np.unique(y_all)\n",
    "\n",
    "# Randomly selecting 50 classes\n",
    "selected_classes = np.random.choice(classes, size=50, replace=False)\n",
    "\n",
    "# Reshaping the labels to 1D array\n",
    "y_train = y_all.reshape(-1)\n",
    "\n",
    "# Splitting the dataset based on the selected classes\n",
    "selected_indices = np.isin(y_train, selected_classes)\n",
    "x_block1 = x_all[selected_indices]\n",
    "y_block1 = y_all[selected_indices]\n",
    "\n",
    "remaining_classes = np.setdiff1d(classes, selected_classes)\n",
    "selected_classes = np.random.choice(remaining_classes, size=50, replace=False)\n",
    "\n",
    "selected_indices = np.isin(y_train, selected_classes)\n",
    "x_block2 = x_all[selected_indices]\n",
    "y_block2 = y_all[selected_indices]"
   ]
  },
  {
   "cell_type": "code",
   "execution_count": 21,
   "id": "2f095335",
   "metadata": {},
   "outputs": [],
   "source": [
    "x_block1_train, x_block1_test, y_block1_train, y_block1_test = train_test_split(x_block1, y_block1, test_size=0.2, random_state=42)\n",
    "x_block2_train, x_block2_test, y_block2_train, y_block2_test = train_test_split(x_block2, y_block2, test_size=0.2, random_state=42)"
   ]
  },
  {
   "cell_type": "markdown",
   "id": "d898cea6",
   "metadata": {},
   "source": [
    "### Best CNN Model\n",
    "Download the model from Google Drive"
   ]
  },
  {
   "cell_type": "code",
   "execution_count": null,
   "id": "a81f21c5",
   "metadata": {},
   "outputs": [],
   "source": [
    "destination = \"./cnn_skip_connection.h5\"\n",
    "\n",
    "gdown.download(\"https://drive.google.com/uc?id=1OXyroo2b8mbwWOu7DeqhXrMQZkGluGAk\", destination, quiet=False)"
   ]
  },
  {
   "cell_type": "code",
   "execution_count": 23,
   "id": "b68e0aee",
   "metadata": {
    "scrolled": true
   },
   "outputs": [
    {
     "name": "stderr",
     "output_type": "stream",
     "text": [
      "WARNING:absl:Compiled the loaded model, but the compiled metrics have yet to be built. `model.compile_metrics` will be empty until you train or evaluate the model.\n"
     ]
    }
   ],
   "source": [
    "model_cnn_skip_connection = load_model(\"cnn_skip_connection.h5\")"
   ]
  },
  {
   "cell_type": "code",
   "execution_count": 24,
   "id": "7b5687aa",
   "metadata": {},
   "outputs": [
    {
     "data": {
      "text/plain": [
       "<Sequential name=sequential, built=True>"
      ]
     },
     "execution_count": 24,
     "metadata": {},
     "output_type": "execute_result"
    }
   ],
   "source": [
    "model_cnn_skip_connection"
   ]
  },
  {
   "cell_type": "markdown",
   "id": "dfb85ad5",
   "metadata": {},
   "source": [
    "The model is evaluated"
   ]
  },
  {
   "cell_type": "code",
   "execution_count": 25,
   "id": "bd26889d",
   "metadata": {
    "scrolled": true
   },
   "outputs": [
    {
     "name": "stdout",
     "output_type": "stream",
     "text": [
      "\u001b[1m157/157\u001b[0m \u001b[32m━━━━━━━━━━━━━━━━━━━━\u001b[0m\u001b[37m\u001b[0m \u001b[1m6s\u001b[0m 31ms/step - accuracy: 0.3940 - loss: 14.3027\n",
      "CNN Skip Connection Accuracy: 0.39820000529289246\n",
      "CNN Skip Connection Loss: 14.383540153503418\n"
     ]
    }
   ],
   "source": [
    "cnn_skip_connection_loss, cnn_skip_connection_accuracy = model_cnn_skip_connection.evaluate(x_block1_test, y_block1_test)\n",
    "print(\"CNN Skip Connection Accuracy:\", cnn_skip_connection_accuracy)\n",
    "print(\"CNN Skip Connection Loss:\", cnn_skip_connection_loss)"
   ]
  },
  {
   "cell_type": "markdown",
   "id": "2a8ebde9-6cb1-45d0-94e2-f86dd496e239",
   "metadata": {},
   "source": [
    "Traning accuracy :72%\n",
    "\n",
    "Validation accuracy: 51%\n",
    "\n",
    "As we can see, during testing the model is overfitting and giving an accuracy of nearly 40%."
   ]
  },
  {
   "cell_type": "markdown",
   "id": "98b00e2a-0eb9-4d78-a4dc-d41c063abe6d",
   "metadata": {},
   "source": [
    "### Best AutoEncoder Model"
   ]
  },
  {
   "cell_type": "markdown",
   "id": "7e6c374c-2606-4be7-81d3-a57933c3df63",
   "metadata": {},
   "source": [
    "I uploaded the best autoencoder model on google drive. Here is the link to it (https://drive.google.com/file/d/1zBkwg0vOy_w7MiyVPpOd30RzmRu--h9d/view?usp=drive_link).\n",
    "But while running the load model command it was throwing an error which was due to index out of range, I tried debugging and also running the model on google collab and on jupyter notebooks but is was not succesful. This might be due to the saving of the model using the .keras extension, I had also previously tried saving it with .h5 extension but that didn't work either."
   ]
  },
  {
   "cell_type": "markdown",
   "id": "1d6d047f-13c8-42b8-be38-f2c675b7b361",
   "metadata": {},
   "source": [
    "The model gave the results listed below when it was trained on the dataset.\n",
    "\n",
    "Traning accuracy: 46.7%\n",
    "\n",
    "Validation accuracy: 46.85%"
   ]
  }
 ],
 "metadata": {
  "kernelspec": {
   "display_name": "Python 3 (ipykernel)",
   "language": "python",
   "name": "python3"
  },
  "language_info": {
   "codemirror_mode": {
    "name": "ipython",
    "version": 3
   },
   "file_extension": ".py",
   "mimetype": "text/x-python",
   "name": "python",
   "nbconvert_exporter": "python",
   "pygments_lexer": "ipython3",
   "version": "3.11.5"
  }
 },
 "nbformat": 4,
 "nbformat_minor": 5
}
