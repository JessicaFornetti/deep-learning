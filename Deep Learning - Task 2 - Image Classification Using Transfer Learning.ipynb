{
 "cells": [
  {
   "cell_type": "markdown",
   "metadata": {
    "id": "bYWjRH-2Rf5_"
   },
   "source": [
    "# Importing the libraries"
   ]
  },
  {
   "cell_type": "code",
   "execution_count": 7,
   "metadata": {
    "id": "olGJje7lF7Pv"
   },
   "outputs": [],
   "source": [
    "import tensorflow\n",
    "from tensorflow import keras\n",
    "from keras import Sequential\n",
    "from keras.models import Model\n",
    "from keras.layers import Dense,Conv2D,Flatten,MaxPooling2D,BatchNormalization,Dropout,UpSampling2D,Reshape,Input\n",
    "from keras.datasets import cifar100\n",
    "from keras.optimizers import Adam\n",
    "from sklearn.model_selection import train_test_split\n",
    "import random\n",
    "import numpy as np\n",
    "from keras.callbacks import EarlyStopping, ReduceLROnPlateau\n",
    "from tensorflow.keras.models import save_model\n"
   ]
  },
  {
   "cell_type": "markdown",
   "metadata": {
    "id": "zL6CT4iERj_G"
   },
   "source": [
    "# Splitting the dataset into Block 1 and Block 2"
   ]
  },
  {
   "cell_type": "markdown",
   "metadata": {
    "id": "iivYILWs0u5Q"
   },
   "source": [
    "We split the CIFAR 100 dataset into two blocks where each block has 50 classess randomly selected."
   ]
  },
  {
   "cell_type": "code",
   "execution_count": 8,
   "metadata": {
    "colab": {
     "base_uri": "https://localhost:8080/"
    },
    "id": "mY8-AXcQJPs-",
    "outputId": "a726234b-66a9-450f-e983-47147f15a68d"
   },
   "outputs": [
    {
     "name": "stdout",
     "output_type": "stream",
     "text": [
      "Downloading data from https://www.cs.toronto.edu/~kriz/cifar-100-python.tar.gz\n",
      "169001437/169001437 [==============================] - 8s 0us/step\n"
     ]
    }
   ],
   "source": [
    "# Load the CIFAR-100 dataset\n",
    "(x_all, y_all), (_, _) = cifar100.load_data(label_mode='fine')\n",
    "\n",
    "# Getting the unique class labels in the dataset\n",
    "classes = np.unique(y_all)\n",
    "\n",
    "# Randomly selecting 50 classes\n",
    "selected_classes = np.random.choice(classes, size=50, replace=False)\n",
    "\n",
    "# Reshaping the labels to 1D array\n",
    "y_train = y_all.reshape(-1)\n",
    "\n",
    "# Splitting the dataset based on the selected classes\n",
    "selected_indices = np.isin(y_train, selected_classes)\n",
    "x_block1 = x_all[selected_indices]\n",
    "y_block1 = y_all[selected_indices]\n",
    "\n",
    "remaining_classes = np.setdiff1d(classes, selected_classes)\n",
    "selected_classes = np.random.choice(remaining_classes, size=50, replace=False)\n",
    "\n",
    "selected_indices = np.isin(y_train, selected_classes)\n",
    "x_block2 = x_all[selected_indices]\n",
    "y_block2 = y_all[selected_indices]"
   ]
  },
  {
   "cell_type": "code",
   "execution_count": 9,
   "metadata": {
    "id": "rN8n2DpIK6WP"
   },
   "outputs": [],
   "source": [
    "# Splitting each block into train and test sets\n",
    "x_block1_train, x_block1_test, y_block1_train, y_block1_test = train_test_split(x_block1, y_block1, test_size=0.2, random_state=42)\n",
    "x_block2_train, x_block2_test, y_block2_train, y_block2_test = train_test_split(x_block2, y_block2, test_size=0.2, random_state=42)"
   ]
  },
  {
   "cell_type": "code",
   "execution_count": 4,
   "metadata": {
    "id": "Xq_Bh-wbMO8s"
   },
   "outputs": [],
   "source": [
    "# Optionally, we have saved these subsets to disk for later use\n",
    "np.savez_compressed('group1_data.npz', x_train=x_block1_train, y_train=y_block1_train, x_test=x_block1_test, y_test=y_block1_test)\n",
    "np.savez_compressed('group2_data.npz', x_train=x_block2_train, y_train=y_block2_train, x_test=x_block2_test, y_test=y_block2_test)"
   ]
  },
  {
   "cell_type": "markdown",
   "metadata": {
    "id": "PtUMmqxLRqFX"
   },
   "source": [
    "# Basic Modelling: For Block 1 Images. Building the Model"
   ]
  },
  {
   "cell_type": "markdown",
   "metadata": {
    "id": "pTtkOC3ndgvZ"
   },
   "source": [
    "**[A] Basic CNN Model**\n",
    "\n",
    "1) The Sequential Layer is used to build the model structure.\n",
    "\n",
    "2) The we add 3 Convolutional Layers to the model.\n",
    "\n",
    "   In the 1st Convolutional layer we use 64 kernels , relu activation function and add some padding to capture the important features.\n",
    "\n",
    "   In the 2nd Convolutional layer the number of filters are increased to 128 filters , relu activation function and added some padding to capture the important features.\n",
    "\n",
    "   In the 3rd Convolutional layer the number of filters are increased to 256 filters, relu activation function and added some padding to capture the important features.\n",
    "\n",
    "  3) BatchNormalization is used to normalize each output of the convolutional layer and feed it to the pooling layer.\n",
    "\n",
    "  4) The output of the Pooling layer is flattened. MaxPooling is used which takes the maximum value from each receptive feild of the feature map.\n",
    "\n",
    "  5) Then two fully connected layers are used and one output layer to perform the multi-class classification.\n",
    "\n",
    "  6) In the final layer the softmax activation function is used as it is used for the multi-class classification.\n",
    "\n",
    "     To prevent overfitting dropout layers are added as well as BatchNormalization.\n",
    "\n",
    "        In addition, to increase the accuracy of the model I have tried to increase the complexity of the model by increasing the number of kernels,giving parameters like stride and padding to capture the relevant features in the image.\n"
   ]
  },
  {
   "cell_type": "code",
   "execution_count": null,
   "metadata": {
    "colab": {
     "base_uri": "https://localhost:8080/"
    },
    "id": "fgMGkIRKFMEL",
    "outputId": "8ae970a6-e9fd-445f-a8d9-074f8b2f611d"
   },
   "outputs": [
    {
     "name": "stdout",
     "output_type": "stream",
     "text": [
      "Model: \"sequential\"\n",
      "_________________________________________________________________\n",
      " Layer (type)                Output Shape              Param #   \n",
      "=================================================================\n",
      " conv2d (Conv2D)             (None, 30, 30, 64)        1792      \n",
      "                                                                 \n",
      " batch_normalization (Batch  (None, 30, 30, 64)        256       \n",
      " Normalization)                                                  \n",
      "                                                                 \n",
      " max_pooling2d (MaxPooling2  (None, 15, 15, 64)        0         \n",
      " D)                                                              \n",
      "                                                                 \n",
      " conv2d_1 (Conv2D)           (None, 13, 13, 128)       73856     \n",
      "                                                                 \n",
      " batch_normalization_1 (Bat  (None, 13, 13, 128)       512       \n",
      " chNormalization)                                                \n",
      "                                                                 \n",
      " max_pooling2d_1 (MaxPoolin  (None, 6, 6, 128)         0         \n",
      " g2D)                                                            \n",
      "                                                                 \n",
      " conv2d_2 (Conv2D)           (None, 4, 4, 256)         295168    \n",
      "                                                                 \n",
      " batch_normalization_2 (Bat  (None, 4, 4, 256)         1024      \n",
      " chNormalization)                                                \n",
      "                                                                 \n",
      " max_pooling2d_2 (MaxPoolin  (None, 2, 2, 256)         0         \n",
      " g2D)                                                            \n",
      "                                                                 \n",
      " flatten (Flatten)           (None, 1024)              0         \n",
      "                                                                 \n",
      " dense (Dense)               (None, 512)               524800    \n",
      "                                                                 \n",
      " dropout (Dropout)           (None, 512)               0         \n",
      "                                                                 \n",
      " dense_1 (Dense)             (None, 256)               131328    \n",
      "                                                                 \n",
      " dropout_1 (Dropout)         (None, 256)               0         \n",
      "                                                                 \n",
      " dense_2 (Dense)             (None, 100)               25700     \n",
      "                                                                 \n",
      "=================================================================\n",
      "Total params: 1054436 (4.02 MB)\n",
      "Trainable params: 1053540 (4.02 MB)\n",
      "Non-trainable params: 896 (3.50 KB)\n",
      "_________________________________________________________________\n"
     ]
    }
   ],
   "source": [
    "# Building the Basic CNN Model\n",
    "model_cnn = Sequential()\n",
    "\n",
    "model_cnn.add(Conv2D(64,kernel_size=(3,3),activation='relu',padding='valid',input_shape=(32,32,3)))\n",
    "model_cnn.add(BatchNormalization())\n",
    "model_cnn.add(MaxPooling2D(pool_size=(2,2),strides=2,padding='valid'))\n",
    "\n",
    "model_cnn.add(Conv2D(128,kernel_size=(3,3),activation='relu',padding='valid'))\n",
    "model_cnn.add(BatchNormalization())\n",
    "model_cnn.add(MaxPooling2D(pool_size=(2,2),strides=2,padding='valid'))\n",
    "\n",
    "model_cnn.add(Conv2D(256,kernel_size=(3,3),activation='relu',padding='valid'))\n",
    "model_cnn.add(BatchNormalization())\n",
    "model_cnn.add(MaxPooling2D(pool_size=(2,2),strides=2,padding='valid'))\n",
    "\n",
    "model_cnn.add(Flatten())\n",
    "\n",
    "model_cnn.add(Dense(512,activation='relu'))\n",
    "model_cnn.add(Dropout(0.5))\n",
    "model_cnn.add(Dense(256,activation='relu'))\n",
    "model_cnn.add(Dropout(0.5))\n",
    "model_cnn.add(Dense(100,activation='softmax'))\n",
    "\n",
    "model_cnn.summary()"
   ]
  },
  {
   "cell_type": "code",
   "execution_count": null,
   "metadata": {
    "id": "trJJWiEuFL-H"
   },
   "outputs": [],
   "source": [
    "model_cnn.compile(optimizer='adam',loss='sparse_categorical_crossentropy',metrics=['accuracy'])"
   ]
  },
  {
   "cell_type": "markdown",
   "metadata": {
    "id": "NR8lWyMtggDg"
   },
   "source": [
    "Callbacks was used to improve the performance and efficiency of neural network training by preventing overfitting and fine-tuning the learning rate during training."
   ]
  },
  {
   "cell_type": "code",
   "execution_count": null,
   "metadata": {
    "id": "LCk9ct70FL5a"
   },
   "outputs": [],
   "source": [
    "callbacks = [\n",
    "    EarlyStopping(patience=5, restore_best_weights=True),  # Early stopping to prevent overfitting\n",
    "    ReduceLROnPlateau(factor=0.2, patience=3, min_lr=1e-6)  # Reduce learning rate on plateau\n",
    "]"
   ]
  },
  {
   "cell_type": "code",
   "execution_count": null,
   "metadata": {
    "colab": {
     "base_uri": "https://localhost:8080/"
    },
    "id": "eHN8n_ivFL10",
    "outputId": "1944f975-61ea-4dad-e7c2-0429cb656b75"
   },
   "outputs": [
    {
     "name": "stdout",
     "output_type": "stream",
     "text": [
      "Epoch 1/40\n",
      "625/625 [==============================] - 122s 196ms/step - loss: 3.2040 - accuracy: 0.1817 - val_loss: 2.8648 - val_accuracy: 0.2634 - lr: 0.0010\n",
      "Epoch 2/40\n",
      "625/625 [==============================] - 123s 197ms/step - loss: 3.0057 - accuracy: 0.2215 - val_loss: 2.9420 - val_accuracy: 0.2452 - lr: 0.0010\n",
      "Epoch 3/40\n",
      "625/625 [==============================] - 118s 188ms/step - loss: 2.8419 - accuracy: 0.2587 - val_loss: 2.8079 - val_accuracy: 0.2612 - lr: 0.0010\n",
      "Epoch 4/40\n",
      "625/625 [==============================] - 117s 187ms/step - loss: 2.6974 - accuracy: 0.2923 - val_loss: 2.4951 - val_accuracy: 0.3382 - lr: 0.0010\n",
      "Epoch 5/40\n",
      "625/625 [==============================] - 122s 196ms/step - loss: 2.5675 - accuracy: 0.3180 - val_loss: 2.5892 - val_accuracy: 0.3156 - lr: 0.0010\n",
      "Epoch 6/40\n",
      "625/625 [==============================] - 119s 190ms/step - loss: 2.4524 - accuracy: 0.3476 - val_loss: 2.6150 - val_accuracy: 0.3174 - lr: 0.0010\n",
      "Epoch 7/40\n",
      "625/625 [==============================] - 116s 186ms/step - loss: 2.3277 - accuracy: 0.3733 - val_loss: 2.9615 - val_accuracy: 0.2684 - lr: 0.0010\n",
      "Epoch 8/40\n",
      "625/625 [==============================] - 119s 191ms/step - loss: 2.0386 - accuracy: 0.4339 - val_loss: 2.0088 - val_accuracy: 0.4568 - lr: 2.0000e-04\n",
      "Epoch 9/40\n",
      "625/625 [==============================] - 120s 193ms/step - loss: 1.8848 - accuracy: 0.4711 - val_loss: 1.9392 - val_accuracy: 0.4740 - lr: 2.0000e-04\n",
      "Epoch 10/40\n",
      "625/625 [==============================] - 119s 191ms/step - loss: 1.7820 - accuracy: 0.4992 - val_loss: 1.9313 - val_accuracy: 0.4740 - lr: 2.0000e-04\n",
      "Epoch 11/40\n",
      "625/625 [==============================] - 121s 194ms/step - loss: 1.7255 - accuracy: 0.5060 - val_loss: 1.9091 - val_accuracy: 0.4880 - lr: 2.0000e-04\n",
      "Epoch 12/40\n",
      "625/625 [==============================] - 116s 185ms/step - loss: 1.6415 - accuracy: 0.5272 - val_loss: 1.9647 - val_accuracy: 0.4762 - lr: 2.0000e-04\n",
      "Epoch 13/40\n",
      "625/625 [==============================] - 119s 190ms/step - loss: 1.5731 - accuracy: 0.5449 - val_loss: 1.8973 - val_accuracy: 0.4938 - lr: 2.0000e-04\n",
      "Epoch 14/40\n",
      "625/625 [==============================] - 119s 191ms/step - loss: 1.5071 - accuracy: 0.5600 - val_loss: 1.8752 - val_accuracy: 0.4952 - lr: 2.0000e-04\n",
      "Epoch 15/40\n",
      "625/625 [==============================] - 115s 183ms/step - loss: 1.4444 - accuracy: 0.5741 - val_loss: 1.9079 - val_accuracy: 0.4890 - lr: 2.0000e-04\n",
      "Epoch 16/40\n",
      "625/625 [==============================] - 120s 192ms/step - loss: 1.4011 - accuracy: 0.5851 - val_loss: 1.8840 - val_accuracy: 0.5018 - lr: 2.0000e-04\n",
      "Epoch 17/40\n",
      "625/625 [==============================] - 134s 215ms/step - loss: 1.3326 - accuracy: 0.5993 - val_loss: 1.8966 - val_accuracy: 0.5018 - lr: 2.0000e-04\n",
      "Epoch 18/40\n",
      "625/625 [==============================] - 156s 250ms/step - loss: 1.2345 - accuracy: 0.6264 - val_loss: 1.8700 - val_accuracy: 0.5102 - lr: 4.0000e-05\n",
      "Epoch 19/40\n",
      "625/625 [==============================] - 119s 191ms/step - loss: 1.2048 - accuracy: 0.6309 - val_loss: 1.8703 - val_accuracy: 0.5116 - lr: 4.0000e-05\n",
      "Epoch 20/40\n",
      "625/625 [==============================] - 118s 189ms/step - loss: 1.1806 - accuracy: 0.6380 - val_loss: 1.8743 - val_accuracy: 0.5110 - lr: 4.0000e-05\n",
      "Epoch 21/40\n",
      "625/625 [==============================] - 112s 179ms/step - loss: 1.1664 - accuracy: 0.6401 - val_loss: 1.8879 - val_accuracy: 0.5106 - lr: 4.0000e-05\n",
      "Epoch 22/40\n",
      "625/625 [==============================] - 111s 178ms/step - loss: 1.1445 - accuracy: 0.6498 - val_loss: 1.8791 - val_accuracy: 0.5130 - lr: 8.0000e-06\n",
      "Epoch 23/40\n",
      "625/625 [==============================] - 113s 181ms/step - loss: 1.1432 - accuracy: 0.6480 - val_loss: 1.8806 - val_accuracy: 0.5138 - lr: 8.0000e-06\n"
     ]
    }
   ],
   "source": [
    "history_cnn = model_cnn.fit(x_block1_train,y_block1_train,epochs=40,validation_data=(x_block1_test,y_block1_test),callbacks=callbacks)"
   ]
  },
  {
   "cell_type": "markdown",
   "metadata": {
    "id": "0BGuZkdDSUJu"
   },
   "source": [
    "**[B] Testing with the 'tanh' Activation Function in the Hidden Layers.**\n",
    "\n",
    "1) The activation function is changed to see how that affects the model's performance.\n",
    "\n",
    "2) Instead of relu, the tanh activation function is used within the hidden layers.\n",
    "\n",
    "3) However we can see that the accuracy decreases when we use the tanh function in the hidden layers compared to the other model."
   ]
  },
  {
   "cell_type": "code",
   "execution_count": null,
   "metadata": {
    "colab": {
     "base_uri": "https://localhost:8080/"
    },
    "id": "S6PcP6TBSZyR",
    "outputId": "45b3c4aa-c92c-4ad0-f49e-d5c99d059549"
   },
   "outputs": [
    {
     "name": "stdout",
     "output_type": "stream",
     "text": [
      "Model: \"sequential_4\"\n",
      "_________________________________________________________________\n",
      " Layer (type)                Output Shape              Param #   \n",
      "=================================================================\n",
      " conv2d_12 (Conv2D)          (None, 30, 30, 64)        1792      \n",
      "                                                                 \n",
      " batch_normalization_12 (Ba  (None, 30, 30, 64)        256       \n",
      " tchNormalization)                                               \n",
      "                                                                 \n",
      " max_pooling2d_12 (MaxPooli  (None, 15, 15, 64)        0         \n",
      " ng2D)                                                           \n",
      "                                                                 \n",
      " conv2d_13 (Conv2D)          (None, 13, 13, 128)       73856     \n",
      "                                                                 \n",
      " batch_normalization_13 (Ba  (None, 13, 13, 128)       512       \n",
      " tchNormalization)                                               \n",
      "                                                                 \n",
      " max_pooling2d_13 (MaxPooli  (None, 6, 6, 128)         0         \n",
      " ng2D)                                                           \n",
      "                                                                 \n",
      " conv2d_14 (Conv2D)          (None, 4, 4, 256)         295168    \n",
      "                                                                 \n",
      " batch_normalization_14 (Ba  (None, 4, 4, 256)         1024      \n",
      " tchNormalization)                                               \n",
      "                                                                 \n",
      " max_pooling2d_14 (MaxPooli  (None, 2, 2, 256)         0         \n",
      " ng2D)                                                           \n",
      "                                                                 \n",
      " flatten_6 (Flatten)         (None, 1024)              0         \n",
      "                                                                 \n",
      " dense_12 (Dense)            (None, 512)               524800    \n",
      "                                                                 \n",
      " dropout_7 (Dropout)         (None, 512)               0         \n",
      "                                                                 \n",
      " dense_13 (Dense)            (None, 256)               131328    \n",
      "                                                                 \n",
      " dropout_8 (Dropout)         (None, 256)               0         \n",
      "                                                                 \n",
      " dense_14 (Dense)            (None, 100)               25700     \n",
      "                                                                 \n",
      "=================================================================\n",
      "Total params: 1054436 (4.02 MB)\n",
      "Trainable params: 1053540 (4.02 MB)\n",
      "Non-trainable params: 896 (3.50 KB)\n",
      "_________________________________________________________________\n"
     ]
    }
   ],
   "source": [
    "model_tanh = Sequential()\n",
    "\n",
    "model_tanh.add(Conv2D(64,kernel_size=(3,3),activation='tanh',padding='valid',input_shape=(32,32,3)))\n",
    "model_tanh.add(BatchNormalization())\n",
    "model_tanh.add(MaxPooling2D(pool_size=(2,2),strides=2,padding='valid'))\n",
    "\n",
    "model_tanh.add(Conv2D(128,kernel_size=(3,3),activation='tanh',padding='valid'))\n",
    "model_tanh.add(BatchNormalization())\n",
    "model_tanh.add(MaxPooling2D(pool_size=(2,2),strides=2,padding='valid'))\n",
    "\n",
    "model_tanh.add(Conv2D(256,kernel_size=(3,3),activation='tanh',padding='valid'))\n",
    "model_tanh.add(BatchNormalization())\n",
    "model_tanh.add(MaxPooling2D(pool_size=(2,2),strides=2,padding='valid'))\n",
    "\n",
    "model_tanh.add(Flatten())\n",
    "\n",
    "model_tanh.add(Dense(512,activation='tanh'))\n",
    "model_tanh.add(Dropout(0.5))\n",
    "model_tanh.add(Dense(256,activation='tanh'))\n",
    "model_tanh.add(Dropout(0.5))\n",
    "model_tanh.add(Dense(100,activation='softmax'))\n",
    "\n",
    "model_tanh.summary()\n",
    "\n",
    "model_tanh.compile(optimizer='adam',loss='sparse_categorical_crossentropy',metrics=['accuracy'])"
   ]
  },
  {
   "cell_type": "code",
   "execution_count": null,
   "metadata": {
    "colab": {
     "base_uri": "https://localhost:8080/"
    },
    "id": "CRZQ3TcpUm4q",
    "outputId": "8110cb85-5124-4b6b-dec3-446b0044217b"
   },
   "outputs": [
    {
     "name": "stdout",
     "output_type": "stream",
     "text": [
      "Epoch 1/40\n",
      "625/625 [==============================] - 166s 259ms/step - loss: 3.9863 - accuracy: 0.0693 - val_loss: 4.7414 - val_accuracy: 0.0488 - lr: 0.0010\n",
      "Epoch 2/40\n",
      "625/625 [==============================] - 134s 215ms/step - loss: 3.6288 - accuracy: 0.1086 - val_loss: 4.4122 - val_accuracy: 0.0594 - lr: 0.0010\n",
      "Epoch 3/40\n",
      "625/625 [==============================] - 129s 207ms/step - loss: 3.4513 - accuracy: 0.1287 - val_loss: 4.1860 - val_accuracy: 0.0456 - lr: 0.0010\n",
      "Epoch 4/40\n",
      "625/625 [==============================] - 121s 193ms/step - loss: 3.3294 - accuracy: 0.1478 - val_loss: 3.3939 - val_accuracy: 0.1402 - lr: 0.0010\n",
      "Epoch 5/40\n",
      "625/625 [==============================] - 120s 192ms/step - loss: 3.2137 - accuracy: 0.1717 - val_loss: 3.2071 - val_accuracy: 0.1738 - lr: 0.0010\n",
      "Epoch 6/40\n",
      "625/625 [==============================] - 120s 192ms/step - loss: 3.1868 - accuracy: 0.1796 - val_loss: 3.2751 - val_accuracy: 0.1744 - lr: 0.0010\n",
      "Epoch 7/40\n",
      "625/625 [==============================] - 121s 194ms/step - loss: 3.1472 - accuracy: 0.1843 - val_loss: 2.9733 - val_accuracy: 0.2294 - lr: 0.0010\n",
      "Epoch 8/40\n",
      "625/625 [==============================] - 120s 191ms/step - loss: 3.0709 - accuracy: 0.2051 - val_loss: 3.3037 - val_accuracy: 0.1834 - lr: 0.0010\n",
      "Epoch 9/40\n",
      "625/625 [==============================] - 121s 194ms/step - loss: 3.0217 - accuracy: 0.2125 - val_loss: 3.1567 - val_accuracy: 0.2014 - lr: 0.0010\n",
      "Epoch 10/40\n",
      "625/625 [==============================] - 132s 212ms/step - loss: 3.0045 - accuracy: 0.2198 - val_loss: 2.8521 - val_accuracy: 0.2438 - lr: 0.0010\n",
      "Epoch 11/40\n",
      "625/625 [==============================] - 121s 194ms/step - loss: 3.0011 - accuracy: 0.2160 - val_loss: 3.7634 - val_accuracy: 0.1164 - lr: 0.0010\n",
      "Epoch 12/40\n",
      "625/625 [==============================] - 123s 197ms/step - loss: 3.0290 - accuracy: 0.2113 - val_loss: 3.1555 - val_accuracy: 0.1926 - lr: 0.0010\n",
      "Epoch 13/40\n",
      "625/625 [==============================] - 120s 192ms/step - loss: 2.9422 - accuracy: 0.2299 - val_loss: 3.1678 - val_accuracy: 0.1814 - lr: 0.0010\n",
      "Epoch 14/40\n",
      "625/625 [==============================] - 132s 211ms/step - loss: 2.7959 - accuracy: 0.2646 - val_loss: 2.6211 - val_accuracy: 0.3010 - lr: 2.0000e-04\n",
      "Epoch 15/40\n",
      "625/625 [==============================] - 127s 204ms/step - loss: 2.7136 - accuracy: 0.2760 - val_loss: 2.5331 - val_accuracy: 0.3154 - lr: 2.0000e-04\n",
      "Epoch 16/40\n",
      "625/625 [==============================] - 124s 198ms/step - loss: 2.6596 - accuracy: 0.2885 - val_loss: 2.5368 - val_accuracy: 0.3198 - lr: 2.0000e-04\n",
      "Epoch 17/40\n",
      "625/625 [==============================] - 124s 199ms/step - loss: 2.6139 - accuracy: 0.3054 - val_loss: 2.4935 - val_accuracy: 0.3256 - lr: 2.0000e-04\n",
      "Epoch 18/40\n",
      "625/625 [==============================] - 121s 193ms/step - loss: 2.5744 - accuracy: 0.3108 - val_loss: 2.5060 - val_accuracy: 0.3276 - lr: 2.0000e-04\n",
      "Epoch 19/40\n",
      "625/625 [==============================] - 121s 194ms/step - loss: 2.5473 - accuracy: 0.3183 - val_loss: 2.4778 - val_accuracy: 0.3328 - lr: 2.0000e-04\n",
      "Epoch 20/40\n",
      "625/625 [==============================] - 121s 193ms/step - loss: 2.5109 - accuracy: 0.3250 - val_loss: 2.4482 - val_accuracy: 0.3408 - lr: 2.0000e-04\n",
      "Epoch 21/40\n",
      "625/625 [==============================] - 119s 191ms/step - loss: 2.4888 - accuracy: 0.3312 - val_loss: 2.4765 - val_accuracy: 0.3370 - lr: 2.0000e-04\n",
      "Epoch 22/40\n",
      "625/625 [==============================] - 124s 199ms/step - loss: 2.4592 - accuracy: 0.3385 - val_loss: 2.5060 - val_accuracy: 0.3204 - lr: 2.0000e-04\n",
      "Epoch 23/40\n",
      "625/625 [==============================] - 126s 201ms/step - loss: 2.4309 - accuracy: 0.3444 - val_loss: 2.4876 - val_accuracy: 0.3348 - lr: 2.0000e-04\n",
      "Epoch 24/40\n",
      "625/625 [==============================] - 123s 197ms/step - loss: 2.3681 - accuracy: 0.3575 - val_loss: 2.4081 - val_accuracy: 0.3506 - lr: 4.0000e-05\n",
      "Epoch 25/40\n",
      "625/625 [==============================] - 124s 198ms/step - loss: 2.3437 - accuracy: 0.3672 - val_loss: 2.3993 - val_accuracy: 0.3554 - lr: 4.0000e-05\n",
      "Epoch 26/40\n",
      "625/625 [==============================] - 115s 183ms/step - loss: 2.3342 - accuracy: 0.3655 - val_loss: 2.4023 - val_accuracy: 0.3528 - lr: 4.0000e-05\n",
      "Epoch 27/40\n",
      "625/625 [==============================] - 119s 191ms/step - loss: 2.3309 - accuracy: 0.3665 - val_loss: 2.3981 - val_accuracy: 0.3536 - lr: 4.0000e-05\n",
      "Epoch 28/40\n",
      "625/625 [==============================] - 117s 187ms/step - loss: 2.3146 - accuracy: 0.3679 - val_loss: 2.3927 - val_accuracy: 0.3482 - lr: 4.0000e-05\n",
      "Epoch 29/40\n",
      "625/625 [==============================] - 121s 194ms/step - loss: 2.3063 - accuracy: 0.3733 - val_loss: 2.3966 - val_accuracy: 0.3558 - lr: 4.0000e-05\n",
      "Epoch 30/40\n",
      "625/625 [==============================] - 118s 188ms/step - loss: 2.2984 - accuracy: 0.3711 - val_loss: 2.3934 - val_accuracy: 0.3542 - lr: 4.0000e-05\n",
      "Epoch 31/40\n",
      "625/625 [==============================] - 116s 186ms/step - loss: 2.2822 - accuracy: 0.3751 - val_loss: 2.3852 - val_accuracy: 0.3520 - lr: 4.0000e-05\n",
      "Epoch 32/40\n",
      "625/625 [==============================] - 113s 181ms/step - loss: 2.2814 - accuracy: 0.3732 - val_loss: 2.3832 - val_accuracy: 0.3568 - lr: 4.0000e-05\n",
      "Epoch 33/40\n",
      "625/625 [==============================] - 118s 189ms/step - loss: 2.2683 - accuracy: 0.3811 - val_loss: 2.3883 - val_accuracy: 0.3536 - lr: 4.0000e-05\n",
      "Epoch 34/40\n",
      "625/625 [==============================] - 120s 192ms/step - loss: 2.2533 - accuracy: 0.3867 - val_loss: 2.3821 - val_accuracy: 0.3582 - lr: 4.0000e-05\n",
      "Epoch 35/40\n",
      "625/625 [==============================] - 117s 187ms/step - loss: 2.2462 - accuracy: 0.3854 - val_loss: 2.3815 - val_accuracy: 0.3560 - lr: 4.0000e-05\n",
      "Epoch 36/40\n",
      "625/625 [==============================] - 118s 188ms/step - loss: 2.2281 - accuracy: 0.3866 - val_loss: 2.3838 - val_accuracy: 0.3586 - lr: 4.0000e-05\n",
      "Epoch 37/40\n",
      "625/625 [==============================] - 113s 181ms/step - loss: 2.2212 - accuracy: 0.3929 - val_loss: 2.3819 - val_accuracy: 0.3584 - lr: 4.0000e-05\n",
      "Epoch 38/40\n",
      "625/625 [==============================] - 113s 180ms/step - loss: 2.2174 - accuracy: 0.3956 - val_loss: 2.3872 - val_accuracy: 0.3560 - lr: 4.0000e-05\n",
      "Epoch 39/40\n",
      "625/625 [==============================] - 117s 187ms/step - loss: 2.2076 - accuracy: 0.3971 - val_loss: 2.3783 - val_accuracy: 0.3596 - lr: 8.0000e-06\n",
      "Epoch 40/40\n",
      "625/625 [==============================] - 112s 179ms/step - loss: 2.2066 - accuracy: 0.3952 - val_loss: 2.3801 - val_accuracy: 0.3572 - lr: 8.0000e-06\n"
     ]
    },
    {
     "data": {
      "text/plain": [
       "<keras.src.callbacks.History at 0x7dbbcca9e800>"
      ]
     },
     "execution_count": 33,
     "metadata": {},
     "output_type": "execute_result"
    }
   ],
   "source": [
    "model_tanh.fit(x_block1_train,y_block1_train,epochs=40,validation_data=(x_block1_test,y_block1_test),callbacks=callbacks)"
   ]
  },
  {
   "cell_type": "markdown",
   "metadata": {
    "id": "4iJ_t97aWElb"
   },
   "source": [
    "**[C] Testing with the Logstic(Sigmoid) Activation function in the Final Layer.**\n",
    "\n",
    "Here the activation function in the final layer is changed to use the sigmoid activation function instead.\n",
    "\n",
    "However we can see that the model is overfitting as it gives poor validation accuracy.\n",
    "\n",
    "Compared to the basic CNN model both have similar validation accuracy, however this model seems to overfit a bit more."
   ]
  },
  {
   "cell_type": "code",
   "execution_count": null,
   "metadata": {
    "colab": {
     "base_uri": "https://localhost:8080/"
    },
    "id": "T6rbjPc1VYJc",
    "outputId": "43ac3e7b-6f42-41e0-d008-e2c4d5ae57f0"
   },
   "outputs": [
    {
     "name": "stdout",
     "output_type": "stream",
     "text": [
      "Model: \"sequential\"\n",
      "_________________________________________________________________\n",
      " Layer (type)                Output Shape              Param #   \n",
      "=================================================================\n",
      " conv2d_84 (Conv2D)          (None, 30, 30, 64)        1792      \n",
      "                                                                 \n",
      " batch_normalization_38 (Ba  (None, 30, 30, 64)        256       \n",
      " tchNormalization)                                               \n",
      "                                                                 \n",
      " max_pooling2d_39 (MaxPooli  (None, 15, 15, 64)        0         \n",
      " ng2D)                                                           \n",
      "                                                                 \n",
      " conv2d_85 (Conv2D)          (None, 13, 13, 128)       73856     \n",
      "                                                                 \n",
      " batch_normalization_39 (Ba  (None, 13, 13, 128)       512       \n",
      " tchNormalization)                                               \n",
      "                                                                 \n",
      " max_pooling2d_40 (MaxPooli  (None, 6, 6, 128)         0         \n",
      " ng2D)                                                           \n",
      "                                                                 \n",
      " conv2d_86 (Conv2D)          (None, 4, 4, 256)         295168    \n",
      "                                                                 \n",
      " batch_normalization_40 (Ba  (None, 4, 4, 256)         1024      \n",
      " tchNormalization)                                               \n",
      "                                                                 \n",
      " max_pooling2d_41 (MaxPooli  (None, 2, 2, 256)         0         \n",
      " ng2D)                                                           \n",
      "                                                                 \n",
      " flatten_3 (Flatten)         (None, 1024)              0         \n",
      "                                                                 \n",
      " dense_9 (Dense)             (None, 512)               524800    \n",
      "                                                                 \n",
      " dropout (Dropout)           (None, 512)               0         \n",
      "                                                                 \n",
      " dense_10 (Dense)            (None, 256)               131328    \n",
      "                                                                 \n",
      " dropout_1 (Dropout)         (None, 256)               0         \n",
      "                                                                 \n",
      " dense_11 (Dense)            (None, 100)               25700     \n",
      "                                                                 \n",
      "=================================================================\n",
      "Total params: 1054436 (4.02 MB)\n",
      "Trainable params: 1053540 (4.02 MB)\n",
      "Non-trainable params: 896 (3.50 KB)\n",
      "_________________________________________________________________\n"
     ]
    }
   ],
   "source": [
    "model_sigmoid = Sequential()\n",
    "\n",
    "model_sigmoid.add(Conv2D(64,kernel_size=(3,3),activation='relu',padding='valid',input_shape=(32,32,3)))\n",
    "model_sigmoid.add(BatchNormalization())\n",
    "model_sigmoid.add(MaxPooling2D(pool_size=(2,2),strides=2,padding='valid'))\n",
    "\n",
    "model_sigmoid.add(Conv2D(128,kernel_size=(3,3),activation='relu',padding='valid'))\n",
    "model_sigmoid.add(BatchNormalization())\n",
    "model_sigmoid.add(MaxPooling2D(pool_size=(2,2),strides=2,padding='valid'))\n",
    "\n",
    "model_sigmoid.add(Conv2D(256,kernel_size=(3,3),activation='relu',padding='valid'))\n",
    "model_sigmoid.add(BatchNormalization())\n",
    "model_sigmoid.add(MaxPooling2D(pool_size=(2,2),strides=2,padding='valid'))\n",
    "\n",
    "model_sigmoid.add(Flatten())\n",
    "\n",
    "model_sigmoid.add(Dense(512,activation='relu'))\n",
    "model_sigmoid.add(Dropout(0.5))\n",
    "model_sigmoid.add(Dense(256,activation='relu'))\n",
    "model_sigmoid.add(Dropout(0.5))\n",
    "model_sigmoid.add(Dense(100,activation='sigmoid'))\n",
    "\n",
    "model_sigmoid.summary()\n",
    "\n",
    "model_sigmoid.compile(optimizer='adam',loss='sparse_categorical_crossentropy',metrics=['accuracy'])"
   ]
  },
  {
   "cell_type": "code",
   "execution_count": null,
   "metadata": {
    "colab": {
     "base_uri": "https://localhost:8080/"
    },
    "id": "gI2vn-N8VcTk",
    "outputId": "f20ecea1-4cbd-4b8e-91a6-49677bb29546"
   },
   "outputs": [
    {
     "name": "stdout",
     "output_type": "stream",
     "text": [
      "Epoch 1/40\n",
      "625/625 [==============================] - 118s 186ms/step - loss: 3.8441 - accuracy: 0.0945 - val_loss: 3.1268 - val_accuracy: 0.2036 - lr: 0.0010\n",
      "Epoch 2/40\n",
      "625/625 [==============================] - 110s 175ms/step - loss: 3.2849 - accuracy: 0.1675 - val_loss: 3.0186 - val_accuracy: 0.2146 - lr: 0.0010\n",
      "Epoch 3/40\n",
      "625/625 [==============================] - 115s 184ms/step - loss: 3.0565 - accuracy: 0.2156 - val_loss: 2.8757 - val_accuracy: 0.2472 - lr: 0.0010\n",
      "Epoch 4/40\n",
      "625/625 [==============================] - 118s 189ms/step - loss: 2.8873 - accuracy: 0.2482 - val_loss: 2.6249 - val_accuracy: 0.3090 - lr: 0.0010\n",
      "Epoch 5/40\n",
      "625/625 [==============================] - 109s 175ms/step - loss: 2.7572 - accuracy: 0.2801 - val_loss: 2.4807 - val_accuracy: 0.3414 - lr: 0.0010\n",
      "Epoch 6/40\n",
      "625/625 [==============================] - 117s 187ms/step - loss: 2.6087 - accuracy: 0.3085 - val_loss: 2.6206 - val_accuracy: 0.3124 - lr: 0.0010\n",
      "Epoch 7/40\n",
      "625/625 [==============================] - 120s 192ms/step - loss: 2.4892 - accuracy: 0.3382 - val_loss: 2.3914 - val_accuracy: 0.3628 - lr: 0.0010\n",
      "Epoch 8/40\n",
      "625/625 [==============================] - 113s 180ms/step - loss: 2.3808 - accuracy: 0.3627 - val_loss: 2.4481 - val_accuracy: 0.3542 - lr: 0.0010\n",
      "Epoch 9/40\n",
      "625/625 [==============================] - 113s 181ms/step - loss: 2.2818 - accuracy: 0.3837 - val_loss: 2.4658 - val_accuracy: 0.3522 - lr: 0.0010\n",
      "Epoch 10/40\n",
      "625/625 [==============================] - 116s 185ms/step - loss: 2.1709 - accuracy: 0.4063 - val_loss: 2.2602 - val_accuracy: 0.4012 - lr: 0.0010\n",
      "Epoch 11/40\n",
      "625/625 [==============================] - 110s 177ms/step - loss: 2.0641 - accuracy: 0.4341 - val_loss: 2.2278 - val_accuracy: 0.4016 - lr: 0.0010\n",
      "Epoch 12/40\n",
      "625/625 [==============================] - 112s 179ms/step - loss: 1.9499 - accuracy: 0.4581 - val_loss: 2.1918 - val_accuracy: 0.4142 - lr: 0.0010\n",
      "Epoch 13/40\n",
      "625/625 [==============================] - 115s 184ms/step - loss: 1.8635 - accuracy: 0.4861 - val_loss: 2.1570 - val_accuracy: 0.4278 - lr: 0.0010\n",
      "Epoch 14/40\n",
      "625/625 [==============================] - 116s 186ms/step - loss: 1.7686 - accuracy: 0.5058 - val_loss: 1.9642 - val_accuracy: 0.4738 - lr: 0.0010\n",
      "Epoch 15/40\n",
      "625/625 [==============================] - 116s 186ms/step - loss: 1.6848 - accuracy: 0.5245 - val_loss: 2.1271 - val_accuracy: 0.4432 - lr: 0.0010\n",
      "Epoch 16/40\n",
      "625/625 [==============================] - 113s 181ms/step - loss: 1.5951 - accuracy: 0.5472 - val_loss: 2.0510 - val_accuracy: 0.4510 - lr: 0.0010\n",
      "Epoch 17/40\n",
      "625/625 [==============================] - 111s 177ms/step - loss: 1.5127 - accuracy: 0.5707 - val_loss: 2.6476 - val_accuracy: 0.3630 - lr: 0.0010\n",
      "Epoch 18/40\n",
      "625/625 [==============================] - 115s 185ms/step - loss: 1.2682 - accuracy: 0.6297 - val_loss: 1.8834 - val_accuracy: 0.5060 - lr: 2.0000e-04\n",
      "Epoch 19/40\n",
      "625/625 [==============================] - 117s 187ms/step - loss: 1.1402 - accuracy: 0.6581 - val_loss: 1.8623 - val_accuracy: 0.5072 - lr: 2.0000e-04\n",
      "Epoch 20/40\n",
      "625/625 [==============================] - 112s 180ms/step - loss: 1.0712 - accuracy: 0.6797 - val_loss: 1.9133 - val_accuracy: 0.5060 - lr: 2.0000e-04\n",
      "Epoch 21/40\n",
      "625/625 [==============================] - 119s 190ms/step - loss: 1.0117 - accuracy: 0.6890 - val_loss: 1.9037 - val_accuracy: 0.5162 - lr: 2.0000e-04\n",
      "Epoch 22/40\n",
      "625/625 [==============================] - 118s 189ms/step - loss: 0.9612 - accuracy: 0.7088 - val_loss: 1.9111 - val_accuracy: 0.5222 - lr: 2.0000e-04\n",
      "Epoch 23/40\n",
      "625/625 [==============================] - 117s 187ms/step - loss: 0.9002 - accuracy: 0.7189 - val_loss: 1.9089 - val_accuracy: 0.5220 - lr: 4.0000e-05\n",
      "Epoch 24/40\n",
      "625/625 [==============================] - 116s 186ms/step - loss: 0.8864 - accuracy: 0.7201 - val_loss: 1.9168 - val_accuracy: 0.5198 - lr: 4.0000e-05\n"
     ]
    },
    {
     "data": {
      "text/plain": [
       "<keras.src.callbacks.History at 0x7dbbcc7cbc70>"
      ]
     },
     "execution_count": 35,
     "metadata": {},
     "output_type": "execute_result"
    }
   ],
   "source": [
    "model_sigmoid.fit(x_block1_train,y_block1_train,epochs=40,validation_data=(x_block1_test,y_block1_test),callbacks=callbacks)"
   ]
  },
  {
   "cell_type": "markdown",
   "metadata": {
    "id": "1tIAyEfdGmVG"
   },
   "source": [
    "**[D] Adding Skip connections in the Model.**\n",
    "\n",
    "Here skip connection layers are added to our basic CNN model.\n",
    "\n",
    "Skip connections are added to the second and third convolutional blocks to preserve spatial information and aid in gradient propagation during training.\n",
    "\n",
    "Then the skip connections are concatenated with the output of the previous layers, and the concatenated output is passed through additional fully connected layers and finally an output layer with softmax activation for multi-class classification."
   ]
  },
  {
   "cell_type": "code",
   "execution_count": null,
   "metadata": {
    "colab": {
     "base_uri": "https://localhost:8080/"
    },
    "id": "3sWp3qzAxR0V",
    "outputId": "aa0861dc-a1d6-4441-9cb4-dbb4211e118d"
   },
   "outputs": [
    {
     "name": "stdout",
     "output_type": "stream",
     "text": [
      "Model: \"model_48\"\n",
      "__________________________________________________________________________________________________\n",
      " Layer (type)                Output Shape                 Param #   Connected to                  \n",
      "==================================================================================================\n",
      " conv2d_87_input (InputLaye  [(None, 32, 32, 3)]          0         []                            \n",
      " r)                                                                                               \n",
      "                                                                                                  \n",
      " conv2d_87 (Conv2D)          (None, 30, 30, 64)           1792      ['conv2d_87_input[0][0]']     \n",
      "                                                                                                  \n",
      " batch_normalization_41 (Ba  (None, 30, 30, 64)           256       ['conv2d_87[0][0]']           \n",
      " tchNormalization)                                                                                \n",
      "                                                                                                  \n",
      " max_pooling2d_42 (MaxPooli  (None, 15, 15, 64)           0         ['batch_normalization_41[0][0]\n",
      " ng2D)                                                              ']                            \n",
      "                                                                                                  \n",
      " conv2d_88 (Conv2D)          (None, 13, 13, 128)          73856     ['max_pooling2d_42[0][0]']    \n",
      "                                                                                                  \n",
      " batch_normalization_42 (Ba  (None, 13, 13, 128)          512       ['conv2d_88[0][0]']           \n",
      " tchNormalization)                                                                                \n",
      "                                                                                                  \n",
      " max_pooling2d_43 (MaxPooli  (None, 6, 6, 128)            0         ['batch_normalization_42[0][0]\n",
      " ng2D)                                                              ']                            \n",
      "                                                                                                  \n",
      " conv2d_89 (Conv2D)          (None, 4, 4, 256)            295168    ['max_pooling2d_43[0][0]']    \n",
      "                                                                                                  \n",
      " batch_normalization_43 (Ba  (None, 4, 4, 256)            1024      ['conv2d_89[0][0]']           \n",
      " tchNormalization)                                                                                \n",
      "                                                                                                  \n",
      " max_pooling2d_44 (MaxPooli  (None, 2, 2, 256)            0         ['batch_normalization_43[0][0]\n",
      " ng2D)                                                              ']                            \n",
      "                                                                                                  \n",
      " flatten_4 (Flatten)         (None, 1024)                 0         ['max_pooling2d_44[0][0]']    \n",
      "                                                                                                  \n",
      " dense_12 (Dense)            (None, 512)                  524800    ['flatten_4[0][0]']           \n",
      "                                                                                                  \n",
      " flatten_5 (Flatten)         (None, 4608)                 0         ['max_pooling2d_43[0][0]']    \n",
      "                                                                                                  \n",
      " flatten_6 (Flatten)         (None, 1024)                 0         ['flatten_4[0][0]']           \n",
      "                                                                                                  \n",
      " concatenate (Concatenate)   (None, 6144)                 0         ['dense_12[0][0]',            \n",
      "                                                                     'flatten_5[0][0]',           \n",
      "                                                                     'flatten_6[0][0]']           \n",
      "                                                                                                  \n",
      " dense_13 (Dense)            (None, 256)                  1573120   ['concatenate[0][0]']         \n",
      "                                                                                                  \n",
      " dropout_2 (Dropout)         (None, 256)                  0         ['dense_13[0][0]']            \n",
      "                                                                                                  \n",
      " dense_14 (Dense)            (None, 100)                  25700     ['dropout_2[0][0]']           \n",
      "                                                                                                  \n",
      "==================================================================================================\n",
      "Total params: 2496228 (9.52 MB)\n",
      "Trainable params: 2495332 (9.52 MB)\n",
      "Non-trainable params: 896 (3.50 KB)\n",
      "__________________________________________________________________________________________________\n"
     ]
    }
   ],
   "source": [
    "from keras.models import Sequential, Model\n",
    "from keras.layers import Conv2D, BatchNormalization, MaxPooling2D, Flatten, Dense, Dropout, Add, Concatenate\n",
    "\n",
    "# Initialize the model\n",
    "model = Sequential()\n",
    "\n",
    "# First convolutional block\n",
    "model.add(Conv2D(64, kernel_size=(3,3), activation='relu', padding='valid', input_shape=(32,32,3)))\n",
    "model.add(BatchNormalization())\n",
    "model.add(MaxPooling2D(pool_size=(2,2), strides=2, padding='valid'))\n",
    "\n",
    "# Second convolutional block with skip connection\n",
    "model.add(Conv2D(128, kernel_size=(3,3), activation='relu', padding='valid'))\n",
    "model.add(BatchNormalization())\n",
    "model.add(MaxPooling2D(pool_size=(2,2), strides=2, padding='valid'))\n",
    "\n",
    "# Third convolutional block with skip connection\n",
    "model.add(Conv2D(256, kernel_size=(3,3), activation='relu', padding='valid'))\n",
    "model.add(BatchNormalization())\n",
    "model.add(MaxPooling2D(pool_size=(2,2), strides=2, padding='valid'))\n",
    "\n",
    "# Flatten layer\n",
    "model.add(Flatten())\n",
    "\n",
    "# Fully connected layers\n",
    "model.add(Dense(512, activation='relu'))\n",
    "\n",
    "# Skip connection from the second convolutional block\n",
    "skip1 = model.layers[5].output  # Get the output of the second convolutional block\n",
    "skip2 = model.layers[9].output  # Get the output of the third convolutional block\n",
    "\n",
    "# Flatten the skip connections to match the output shape of the previous layers\n",
    "skip1_flatten = Flatten()(skip1)\n",
    "skip2_flatten = Flatten()(skip2)\n",
    "\n",
    "# Concatenate skip connections with the output of the previous layers\n",
    "concatenated_output = Concatenate()([model.layers[-1].output, skip1_flatten, skip2_flatten])\n",
    "\n",
    "# Fully connected layers\n",
    "concatenated_output = Dense(256, activation='relu')(concatenated_output)\n",
    "concatenated_output = Dropout(0.5)(concatenated_output)\n",
    "\n",
    "# Output layer\n",
    "output = Dense(100, activation='softmax')(concatenated_output)\n",
    "\n",
    "# Create the model\n",
    "model = Model(inputs=model.inputs, outputs=output)\n",
    "\n",
    "# Compile the model\n",
    "model.compile(optimizer='adam', loss='categorical_crossentropy', metrics=['accuracy'])\n",
    "\n",
    "# Display the model summary\n",
    "model.summary()"
   ]
  },
  {
   "cell_type": "code",
   "execution_count": null,
   "metadata": {
    "colab": {
     "base_uri": "https://localhost:8080/"
    },
    "id": "xrGx_z0jTmPt",
    "outputId": "d1db52b1-56e4-4dee-c56a-2afeca865b5b"
   },
   "outputs": [
    {
     "name": "stdout",
     "output_type": "stream",
     "text": [
      "Model: \"model_82\"\n",
      "__________________________________________________________________________________________________\n",
      " Layer (type)                Output Shape                 Param #   Connected to                  \n",
      "==================================================================================================\n",
      " conv2d_199_input (InputLay  [(None, 32, 32, 3)]          0         []                            \n",
      " er)                                                                                              \n",
      "                                                                                                  \n",
      " conv2d_199 (Conv2D)         (None, 30, 30, 64)           1792      ['conv2d_199_input[0][0]']    \n",
      "                                                                                                  \n",
      " batch_normalization_222 (B  (None, 30, 30, 64)           256       ['conv2d_199[0][0]']          \n",
      " atchNormalization)                                                                               \n",
      "                                                                                                  \n",
      " max_pooling2d_179 (MaxPool  (None, 15, 15, 64)           0         ['batch_normalization_222[0][0\n",
      " ing2D)                                                             ]']                           \n",
      "                                                                                                  \n",
      " conv2d_200 (Conv2D)         (None, 13, 13, 128)          73856     ['max_pooling2d_179[0][0]']   \n",
      "                                                                                                  \n",
      " batch_normalization_223 (B  (None, 13, 13, 128)          512       ['conv2d_200[0][0]']          \n",
      " atchNormalization)                                                                               \n",
      "                                                                                                  \n",
      " max_pooling2d_180 (MaxPool  (None, 6, 6, 128)            0         ['batch_normalization_223[0][0\n",
      " ing2D)                                                             ]']                           \n",
      "                                                                                                  \n",
      " conv2d_201 (Conv2D)         (None, 4, 4, 256)            295168    ['max_pooling2d_180[0][0]']   \n",
      "                                                                                                  \n",
      " batch_normalization_224 (B  (None, 4, 4, 256)            1024      ['conv2d_201[0][0]']          \n",
      " atchNormalization)                                                                               \n",
      "                                                                                                  \n",
      " max_pooling2d_181 (MaxPool  (None, 2, 2, 256)            0         ['batch_normalization_224[0][0\n",
      " ing2D)                                                             ]']                           \n",
      "                                                                                                  \n",
      " flatten_64 (Flatten)        (None, 1024)                 0         ['max_pooling2d_181[0][0]']   \n",
      "                                                                                                  \n",
      " dense_168 (Dense)           (None, 512)                  524800    ['flatten_64[0][0]']          \n",
      "                                                                                                  \n",
      " flatten_65 (Flatten)        (None, 4608)                 0         ['max_pooling2d_180[0][0]']   \n",
      "                                                                                                  \n",
      " flatten_66 (Flatten)        (None, 1024)                 0         ['flatten_64[0][0]']          \n",
      "                                                                                                  \n",
      " concatenate_6 (Concatenate  (None, 6144)                 0         ['dense_168[0][0]',           \n",
      " )                                                                   'flatten_65[0][0]',          \n",
      "                                                                     'flatten_66[0][0]']          \n",
      "                                                                                                  \n",
      " dense_169 (Dense)           (None, 256)                  1573120   ['concatenate_6[0][0]']       \n",
      "                                                                                                  \n",
      " dropout_26 (Dropout)        (None, 256)                  0         ['dense_169[0][0]']           \n",
      "                                                                                                  \n",
      " dense_170 (Dense)           (None, 100)                  25700     ['dropout_26[0][0]']          \n",
      "                                                                                                  \n",
      "==================================================================================================\n",
      "Total params: 2496228 (9.52 MB)\n",
      "Trainable params: 2495332 (9.52 MB)\n",
      "Non-trainable params: 896 (3.50 KB)\n",
      "__________________________________________________________________________________________________\n"
     ]
    }
   ],
   "source": [
    "model.summary()"
   ]
  },
  {
   "cell_type": "code",
   "execution_count": null,
   "metadata": {
    "id": "RyT3wqpbTtU5"
   },
   "outputs": [],
   "source": [
    "model.compile(optimizer='adam',loss='sparse_categorical_crossentropy',metrics=['accuracy'])"
   ]
  },
  {
   "cell_type": "markdown",
   "metadata": {
    "id": "l02W5sbs7hk_"
   },
   "source": [
    "When comparing the results to the previous models, it has similar validation accuracy along with similar traning accuracy."
   ]
  },
  {
   "cell_type": "code",
   "execution_count": null,
   "metadata": {
    "colab": {
     "base_uri": "https://localhost:8080/"
    },
    "id": "K-Dw04-rUS0c",
    "outputId": "eb908c82-bbca-4544-e32e-def00236d3a5"
   },
   "outputs": [
    {
     "name": "stdout",
     "output_type": "stream",
     "text": [
      "Epoch 1/40\n"
     ]
    },
    {
     "name": "stderr",
     "output_type": "stream",
     "text": [
      "/usr/local/lib/python3.10/dist-packages/tensorflow/python/data/ops/structured_function.py:258: UserWarning: Even though the `tf.config.experimental_run_functions_eagerly` option is set, this option does not apply to tf.data functions. To force eager execution of tf.data functions, please use `tf.data.experimental.enable_debug_mode()`.\n",
      "  warnings.warn(\n"
     ]
    },
    {
     "name": "stdout",
     "output_type": "stream",
     "text": [
      "625/625 [==============================] - 203s 324ms/step - loss: 3.8948 - accuracy: 0.1010 - val_loss: 3.6283 - val_accuracy: 0.0976 - lr: 0.0010\n",
      "Epoch 2/40\n",
      "625/625 [==============================] - 210s 336ms/step - loss: 3.2384 - accuracy: 0.1705 - val_loss: 3.3571 - val_accuracy: 0.1804 - lr: 0.0010\n",
      "Epoch 3/40\n",
      "625/625 [==============================] - 201s 322ms/step - loss: 3.0071 - accuracy: 0.2169 - val_loss: 2.7470 - val_accuracy: 0.2754 - lr: 0.0010\n",
      "Epoch 4/40\n",
      "625/625 [==============================] - 199s 319ms/step - loss: 2.7956 - accuracy: 0.2526 - val_loss: 2.6749 - val_accuracy: 0.2892 - lr: 0.0010\n",
      "Epoch 5/40\n",
      "625/625 [==============================] - 208s 333ms/step - loss: 2.6384 - accuracy: 0.2822 - val_loss: 2.5709 - val_accuracy: 0.3196 - lr: 0.0010\n",
      "Epoch 6/40\n",
      "625/625 [==============================] - 197s 316ms/step - loss: 2.4951 - accuracy: 0.3108 - val_loss: 2.4904 - val_accuracy: 0.3242 - lr: 0.0010\n",
      "Epoch 7/40\n",
      "625/625 [==============================] - 195s 313ms/step - loss: 2.3309 - accuracy: 0.3442 - val_loss: 2.4418 - val_accuracy: 0.3540 - lr: 0.0010\n",
      "Epoch 8/40\n",
      "625/625 [==============================] - 209s 335ms/step - loss: 2.1981 - accuracy: 0.3706 - val_loss: 2.6119 - val_accuracy: 0.3258 - lr: 0.0010\n",
      "Epoch 9/40\n",
      "625/625 [==============================] - 207s 331ms/step - loss: 2.0671 - accuracy: 0.4045 - val_loss: 2.4227 - val_accuracy: 0.3706 - lr: 0.0010\n",
      "Epoch 10/40\n",
      "625/625 [==============================] - 202s 323ms/step - loss: 1.9426 - accuracy: 0.4321 - val_loss: 2.3975 - val_accuracy: 0.3896 - lr: 0.0010\n",
      "Epoch 11/40\n",
      "625/625 [==============================] - 211s 337ms/step - loss: 1.8125 - accuracy: 0.4608 - val_loss: 2.1248 - val_accuracy: 0.4270 - lr: 0.0010\n",
      "Epoch 12/40\n",
      "625/625 [==============================] - 195s 312ms/step - loss: 1.6886 - accuracy: 0.4917 - val_loss: 2.2501 - val_accuracy: 0.4078 - lr: 0.0010\n",
      "Epoch 13/40\n",
      "625/625 [==============================] - 197s 316ms/step - loss: 1.6123 - accuracy: 0.5090 - val_loss: 2.1920 - val_accuracy: 0.4414 - lr: 0.0010\n",
      "Epoch 14/40\n",
      "625/625 [==============================] - 198s 317ms/step - loss: 1.4948 - accuracy: 0.5407 - val_loss: 2.1661 - val_accuracy: 0.4350 - lr: 0.0010\n",
      "Epoch 15/40\n",
      "625/625 [==============================] - 198s 317ms/step - loss: 1.1839 - accuracy: 0.6202 - val_loss: 1.9988 - val_accuracy: 0.4894 - lr: 2.0000e-04\n",
      "Epoch 16/40\n",
      "625/625 [==============================] - 195s 313ms/step - loss: 1.0528 - accuracy: 0.6528 - val_loss: 2.0483 - val_accuracy: 0.4946 - lr: 2.0000e-04\n",
      "Epoch 17/40\n",
      "625/625 [==============================] - 195s 313ms/step - loss: 0.9882 - accuracy: 0.6743 - val_loss: 2.0995 - val_accuracy: 0.5018 - lr: 2.0000e-04\n",
      "Epoch 18/40\n",
      "625/625 [==============================] - 207s 331ms/step - loss: 0.9048 - accuracy: 0.6971 - val_loss: 2.2044 - val_accuracy: 0.4950 - lr: 2.0000e-04\n",
      "Epoch 19/40\n",
      "625/625 [==============================] - 193s 309ms/step - loss: 0.8256 - accuracy: 0.7172 - val_loss: 2.1501 - val_accuracy: 0.5056 - lr: 4.0000e-05\n",
      "Epoch 20/40\n",
      "625/625 [==============================] - 193s 308ms/step - loss: 0.8053 - accuracy: 0.7256 - val_loss: 2.1863 - val_accuracy: 0.5052 - lr: 4.0000e-05\n"
     ]
    }
   ],
   "source": [
    "history = model.fit(x_block1_train,y_block1_train,epochs=40,validation_data=(x_block1_test,y_block1_test),callbacks=callbacks)"
   ]
  },
  {
   "cell_type": "markdown",
   "metadata": {
    "id": "7OR2bAoIJDQr"
   },
   "source": [
    "#### Saving the best model for CNN.\n",
    "We save the CNN model which has skip connection layers in it, as it seems to overfit less and gives reasonable accuracy as compared to the other models"
   ]
  },
  {
   "cell_type": "code",
   "execution_count": null,
   "metadata": {
    "colab": {
     "base_uri": "https://localhost:8080/"
    },
    "id": "fOZdmYFeJGq7",
    "outputId": "ff1e7131-3faf-4c7f-df89-7d5f1c12cd80"
   },
   "outputs": [
    {
     "name": "stderr",
     "output_type": "stream",
     "text": [
      "<ipython-input-151-95e3b0cb683e>:1: UserWarning: You are saving your model as an HDF5 file via `model.save()`. This file format is considered legacy. We recommend using instead the native Keras format, e.g. `model.save('my_model.keras')`.\n",
      "  save_model(model,'best_cnn_model.h5')\n"
     ]
    }
   ],
   "source": [
    "save_model(model,'best_cnn_model.h5')"
   ]
  },
  {
   "cell_type": "markdown",
   "metadata": {
    "id": "Eq9gl_Ax75-j"
   },
   "source": [
    "We plot the graphs for better visvualization of the accuracy values and the losses for the traning and validation set."
   ]
  },
  {
   "cell_type": "code",
   "execution_count": null,
   "metadata": {
    "colab": {
     "base_uri": "https://localhost:8080/",
     "height": 430
    },
    "id": "T_FYaX1VWYfb",
    "outputId": "fd2e9519-4736-48e8-a115-113b230b0e45"
   },
   "outputs": [
    {
     "data": {
      "image/png": "[encoded data removed]",
      "text/plain": [
       "<Figure size 640x480 with 1 Axes>"
      ]
     },
     "metadata": {},
     "output_type": "display_data"
    }
   ],
   "source": [
    "import matplotlib.pyplot as plt\n",
    "\n",
    "plt.plot(history.history['accuracy'],color='red',label='train')\n",
    "plt.plot(history.history['val_accuracy'],color='blue',label='val')\n",
    "\n",
    "plt.legend()\n",
    "plt.show()"
   ]
  },
  {
   "cell_type": "code",
   "execution_count": null,
   "metadata": {
    "colab": {
     "base_uri": "https://localhost:8080/",
     "height": 430
    },
    "id": "zIk4XyuaefCy",
    "outputId": "2b0c4f9b-3694-4be2-8ba1-0306f295ab50"
   },
   "outputs": [
    {
     "data": {
      "image/png": "[encoded data removed]",
      "text/plain": [
       "<Figure size 640x480 with 1 Axes>"
      ]
     },
     "metadata": {},
     "output_type": "display_data"
    }
   ],
   "source": [
    "import matplotlib.pyplot as plt\n",
    "\n",
    "plt.plot(history.history['loss'],color='red',label='train')\n",
    "plt.plot(history.history['val_loss'],color='blue',label='val')\n",
    "\n",
    "plt.legend()\n",
    "plt.show()"
   ]
  },
  {
   "cell_type": "markdown",
   "metadata": {
    "id": "7REaDs4i7I3-"
   },
   "source": [
    "# Autoencoders Modelling : For Block 1 Images"
   ]
  },
  {
   "cell_type": "markdown",
   "metadata": {
    "id": "_ez3l5_sltee"
   },
   "source": [
    "The autoencoder model described below is created:\n",
    "\n",
    "1) Encoder (CNN):\n",
    "In the 1st chunck the input shape for the encoder is defined.\n",
    "Then three convolutional layers are added with increasing number of filters (16, 32, and 64 respectively), each followed by LeakyReLU activation functions. These layers help to extract features from the input image.\n",
    "After three max-pooling layers are added to reduce the spatial dimensions of the feature maps, helping in retaining the most important features.\n",
    "The output of the last max-pooling layer represents the encoded (compressed) representation of the input image.\n",
    "\n",
    "2) Flatten Layer:\n",
    "It flattens the output of the encoder into a 1D vector, preparing it for the classifier.\n",
    "\n",
    "3) Classifier:\n",
    "Two fully connected layers (128 neurons followed by 64 neurons) with ReLU activation functions are used, followed by a final output layer with softmax activation. This part of the model classifies the encoded features into one of the predefined classes (100 in this case).\n",
    "\n",
    "4) Decoder:\n",
    "Three upsampling layers are used which increase the spatial dimensions of the encoded representation to match the original input image size.\n",
    "Two transposed convolutional layers with decreasing number of filters (64 and 32 respectively), each followed by ReLU activation functions and batch normalization are then used. These layers help in reconstructing the original input image.\n",
    "The final layer with sigmoid activation then reconstructs the color channels of the input image.\n",
    "\n",
    " 5) Autoencoder Model\n",
    " The autoencoder model is defined with the input and output layers. It is then compiled using the Adam optimizer and mean squared error loss, suitable for image reconstruction."
   ]
  },
  {
   "cell_type": "code",
   "execution_count": null,
   "metadata": {
    "colab": {
     "base_uri": "https://localhost:8080/"
    },
    "id": "1Ni_SNlZuyhY",
    "outputId": "bac2527b-99c7-4bc2-8888-5dc9fad599d9"
   },
   "outputs": [
    {
     "name": "stderr",
     "output_type": "stream",
     "text": [
      "WARNING:absl:`lr` is deprecated in Keras optimizer, please use `learning_rate` or use the legacy optimizer, e.g.,tf.keras.optimizers.legacy.Adam.\n"
     ]
    },
    {
     "name": "stdout",
     "output_type": "stream",
     "text": [
      "Model: \"model_46\"\n",
      "_________________________________________________________________\n",
      " Layer (type)                Output Shape              Param #   \n",
      "=================================================================\n",
      " input_47 (InputLayer)       [(None, 32, 32, 3)]       0         \n",
      "                                                                 \n",
      " model_44 (Functional)       (None, 8, 8, 32)          20640     \n",
      "                                                                 \n",
      " model_45 (Functional)       (None, 32, 32, 3)         29859     \n",
      "                                                                 \n",
      "=================================================================\n",
      "Total params: 50499 (197.26 KB)\n",
      "Trainable params: 50115 (195.76 KB)\n",
      "Non-trainable params: 384 (1.50 KB)\n",
      "_________________________________________________________________\n",
      "Epoch 1/15\n",
      "157/157 [==============================] - 125s 780ms/step - loss: 20060.8281 - accuracy: 0.4858 - val_loss: 20319.3047 - val_accuracy: 0.4562\n",
      "Epoch 2/15\n",
      "157/157 [==============================] - 122s 776ms/step - loss: 20046.1367 - accuracy: 0.5083 - val_loss: 20319.1719 - val_accuracy: 0.5216\n",
      "Epoch 3/15\n",
      "157/157 [==============================] - 125s 796ms/step - loss: 20045.5176 - accuracy: 0.5145 - val_loss: 20319.1328 - val_accuracy: 0.5110\n",
      "Epoch 4/15\n",
      "157/157 [==============================] - 122s 778ms/step - loss: 20045.5215 - accuracy: 0.4754 - val_loss: 20319.2715 - val_accuracy: 0.4164\n",
      "Epoch 5/15\n",
      "157/157 [==============================] - 124s 787ms/step - loss: 20045.3887 - accuracy: 0.4625 - val_loss: 20319.1113 - val_accuracy: 0.4983\n",
      "Epoch 6/15\n",
      "157/157 [==============================] - 122s 776ms/step - loss: 20045.3047 - accuracy: 0.4896 - val_loss: 20319.0996 - val_accuracy: 0.5111\n",
      "Epoch 7/15\n",
      "157/157 [==============================] - 124s 788ms/step - loss: 20045.2969 - accuracy: 0.4955 - val_loss: 20319.0977 - val_accuracy: 0.4798\n",
      "Epoch 8/15\n",
      "157/157 [==============================] - 124s 790ms/step - loss: 20045.4043 - accuracy: 0.4490 - val_loss: 20319.1445 - val_accuracy: 0.5495\n",
      "Epoch 9/15\n",
      "157/157 [==============================] - 123s 782ms/step - loss: 20045.2891 - accuracy: 0.4534 - val_loss: 20319.0938 - val_accuracy: 0.4715\n",
      "Epoch 10/15\n",
      "157/157 [==============================] - 121s 771ms/step - loss: 20045.2812 - accuracy: 0.4466 - val_loss: 20319.0938 - val_accuracy: 0.4529\n",
      "Epoch 11/15\n",
      "157/157 [==============================] - 122s 778ms/step - loss: 20045.2871 - accuracy: 0.4498 - val_loss: 20319.0938 - val_accuracy: 0.4630\n",
      "Epoch 12/15\n",
      "157/157 [==============================] - 124s 787ms/step - loss: 20045.2832 - accuracy: 0.4554 - val_loss: 20319.0938 - val_accuracy: 0.4651\n",
      "Epoch 13/15\n",
      "157/157 [==============================] - 123s 786ms/step - loss: 20045.3066 - accuracy: 0.4565 - val_loss: 20319.0957 - val_accuracy: 0.4236\n",
      "Epoch 14/15\n",
      "157/157 [==============================] - 120s 762ms/step - loss: 20045.2793 - accuracy: 0.4643 - val_loss: 20319.0938 - val_accuracy: 0.4560\n",
      "Epoch 15/15\n",
      "157/157 [==============================] - 119s 756ms/step - loss: 20045.2754 - accuracy: 0.4671 - val_loss: 20319.0898 - val_accuracy: 0.4685\n"
     ]
    },
    {
     "data": {
      "text/plain": [
       "<keras.src.callbacks.History at 0x790d61a84eb0>"
      ]
     },
     "execution_count": 28,
     "metadata": {},
     "output_type": "execute_result"
    }
   ],
   "source": [
    "import numpy as np\n",
    "from tensorflow.keras.models import Model\n",
    "from tensorflow.keras.layers import Input, Conv2D, MaxPooling2D, UpSampling2D, BatchNormalization, Activation\n",
    "from tensorflow.keras.optimizers import Adam\n",
    "from tensorflow.keras.losses import MeanSquaredError\n",
    "\n",
    "# Define the input shape\n",
    "input_shape = (32, 32, 3)  # Assuming CIFAR-100 images\n",
    "\n",
    "# Define the encoder part of the autoencoder\n",
    "def build_encoder(input_shape):\n",
    "    input_img = Input(shape=input_shape)\n",
    "    x = Conv2D(64, (3, 3), activation='relu', padding='same')(input_img)\n",
    "    x = BatchNormalization()(x)\n",
    "    x = MaxPooling2D((2, 2), padding='same')(x)\n",
    "    x = Conv2D(32, (3, 3), activation='relu', padding='same')(x)\n",
    "    x = BatchNormalization()(x)\n",
    "    encoded = MaxPooling2D((2, 2), padding='same')(x)\n",
    "    return Model(input_img, encoded)\n",
    "\n",
    "# Define the decoder part of the autoencoder\n",
    "def build_decoder(encoded_shape):\n",
    "    input_encoded = Input(shape=encoded_shape)\n",
    "    x = Conv2D(32, (3, 3), activation='relu', padding='same')(input_encoded)\n",
    "    x = BatchNormalization()(x)\n",
    "    x = UpSampling2D((2, 2))(x)\n",
    "    x = Conv2D(64, (3, 3), activation='relu', padding='same')(x)\n",
    "    x = BatchNormalization()(x)\n",
    "    x = UpSampling2D((2, 2))(x)\n",
    "    decoded = Conv2D(3, (3, 3), activation='sigmoid', padding='same')(x)\n",
    "    return Model(input_encoded, decoded)\n",
    "\n",
    "# Build the encoder and decoder models\n",
    "encoder = build_encoder(input_shape)\n",
    "decoder = build_decoder(encoder.output_shape[1:])\n",
    "\n",
    "# Build the autoencoder model by combining encoder and decoder\n",
    "input_img = Input(shape=input_shape)\n",
    "encoded_img = encoder(input_img)\n",
    "decoded_img = decoder(encoded_img)\n",
    "autoencoder = Model(input_img, decoded_img)\n",
    "\n",
    "# Compile the autoencoder model\n",
    "autoencoder.compile(optimizer=Adam(lr=0.001), loss=MeanSquaredError(),metrics=['accuracy'])\n",
    "\n",
    "# Display the summary of the autoencoder model\n",
    "autoencoder.summary()\n",
    "\n",
    "# Train the autoencoder model on block 1\n",
    "autoencoder.fit(x_block1_train, x_block1_train,\n",
    "                epochs=15,\n",
    "                batch_size=128,\n",
    "                shuffle=True,\n",
    "                validation_data=(x_block1_test, x_block1_test))\n"
   ]
  },
  {
   "cell_type": "markdown",
   "metadata": {
    "id": "q_ELJ5mCKnuB"
   },
   "source": [
    "Saving the Autoencoder Model"
   ]
  },
  {
   "cell_type": "code",
   "execution_count": null,
   "metadata": {
    "colab": {
     "base_uri": "https://localhost:8080/"
    },
    "id": "-SK7TxC3KcY1",
    "outputId": "d5cbb786-13bd-45ad-e870-d4e3628eadef"
   },
   "outputs": [
    {
     "name": "stderr",
     "output_type": "stream",
     "text": [
      "<ipython-input-31-f82eb3ac1945>:1: UserWarning: You are saving your model as an HDF5 file via `model.save()`. This file format is considered legacy. We recommend using instead the native Keras format, e.g. `model.save('my_model.keras')`.\n",
      "  save_model(autoencoder,'autoencoder_model.h5')\n"
     ]
    }
   ],
   "source": [
    "save_model(autoencoder,'autoencoder_model.h5')"
   ]
  },
  {
   "cell_type": "markdown",
   "metadata": {
    "id": "pzhVTOoZECJa"
   },
   "source": [
    "# Transfer Learning : Block 2 Images"
   ]
  },
  {
   "cell_type": "markdown",
   "metadata": {
    "id": "AIRSnwiZBnUI"
   },
   "source": [
    "1) Input Layer: The input layer is defined with the shape of (32,32,3).\n",
    "\n",
    "2) Encoder Part of AutoEncoder: The part of an existing auto-encoder model is extracted and the each layer is applied sequentially to the input layer (input_layer). The output of this process is then stored in encoder_output.\n",
    "\n",
    "3) CNN Model: Similarly the CNN model is extarcted and each layer is applied sequentially to the input layer (input_layer). The output of this process is then stored in cnn_output.\n",
    "\n",
    "4) The output from the encoder (encoder_output) is flattened using the Flatten layer to convert the 3D feature maps into a 1D vector.\n",
    "\n",
    "5) Concatinating the outputs of Encoder and CNN: the outputs from the Encoder and the CNN are concatenated.\n",
    "\n",
    "6) Fully connected layers: The concatinaated output are passed to the fully connected Dense layer with 256 neurons and ReLU activation function. A dropout rate of 0.5 was applied along with the dropout regularization to prevent overfitting.\n",
    "\n",
    "7) Output layer: the output is pased to an output Dense layer with 100 neurons where softmax activation function was used.\n",
    "\n",
    "8) Creating the transfer learning model: a transfer_model is created using the Model class from Keras library."
   ]
  },
  {
   "cell_type": "code",
   "execution_count": null,
   "metadata": {
    "colab": {
     "base_uri": "https://localhost:8080/"
    },
    "id": "d123J5SdUyTY",
    "outputId": "867fbd6a-e470-4590-95c4-31d492bbec5b"
   },
   "outputs": [
    {
     "name": "stdout",
     "output_type": "stream",
     "text": [
      "Model: \"model_54\"\n",
      "__________________________________________________________________________________________________\n",
      " Layer (type)                Output Shape                 Param #   Connected to                  \n",
      "==================================================================================================\n",
      " input_64 (InputLayer)       [(None, 32, 32, 3)]          0         []                            \n",
      "                                                                                                  \n",
      " conv2d_87 (Conv2D)          (None, 30, 30, 64)           1792      ['input_64[0][0]']            \n",
      "                                                                                                  \n",
      " model_44 (Functional)       (None, 8, 8, 32)             20640     ['input_64[0][0]']            \n",
      "                                                                                                  \n",
      " conv2d_88 (Conv2D)          multiple                     73856     ['conv2d_87[11][0]']          \n",
      "                                                                                                  \n",
      " model_45 (Functional)       (None, 32, 32, 3)            29859     ['model_44[16][0]']           \n",
      "                                                                                                  \n",
      " conv2d_89 (Conv2D)          multiple                     295168    ['conv2d_88[11][0]']          \n",
      "                                                                                                  \n",
      " flatten_16 (Flatten)        (None, 3072)                 0         ['model_45[16][0]']           \n",
      "                                                                                                  \n",
      " flatten_17 (Flatten)        (None, 173056)               0         ['conv2d_89[11][0]']          \n",
      "                                                                                                  \n",
      " concatenate_7 (Concatenate  (None, 176128)               0         ['flatten_16[0][0]',          \n",
      " )                                                                   'flatten_17[0][0]']          \n",
      "                                                                                                  \n",
      " dense_25 (Dense)            (None, 256)                  4508902   ['concatenate_7[0][0]']       \n",
      "                                                          4                                       \n",
      "                                                                                                  \n",
      " dropout_8 (Dropout)         (None, 256)                  0         ['dense_25[0][0]']            \n",
      "                                                                                                  \n",
      " dense_26 (Dense)            (None, 100)                  25700     ['dropout_8[0][0]']           \n",
      "                                                                                                  \n",
      "==================================================================================================\n",
      "Total params: 45536039 (173.71 MB)\n",
      "Trainable params: 45535655 (173.70 MB)\n",
      "Non-trainable params: 384 (1.50 KB)\n",
      "__________________________________________________________________________________________________\n"
     ]
    }
   ],
   "source": [
    "from keras.models import Sequential, Model\n",
    "from keras.layers import Conv2D, BatchNormalization, MaxPooling2D, Flatten, Dense, Dropout, Add, Concatenate, Input\n",
    "\n",
    "# Define input layer\n",
    "input_layer = Input(shape=(32, 32, 3))\n",
    "\n",
    "# Encoder part of the autoencoder\n",
    "encoder_output = input_layer\n",
    "for i in range(1, len(autoencoder.layers)):  # Iterate over all layers of the autoencoder\n",
    "    encoder_output = autoencoder.layers[i](encoder_output)\n",
    "\n",
    "# Filter only the layers from the CNN model\n",
    "cnn_layers = [layer for layer in model.layers if isinstance(layer, Conv2D)]\n",
    "\n",
    "# CNN model\n",
    "cnn_output = input_layer  # Start with the input layer for CNN\n",
    "for layer in cnn_layers:  # Iterate over CNN layers\n",
    "    cnn_output = layer(cnn_output)\n",
    "\n",
    "# Flatten the output from the encoder\n",
    "encoder_flattened = Flatten()(encoder_output)\n",
    "\n",
    "# Flatten the output from the CNN\n",
    "cnn_flattened = Flatten()(cnn_output)\n",
    "\n",
    "# Concatenate the outputs of the encoder and CNN\n",
    "combined_output = Concatenate()([encoder_flattened, cnn_flattened])\n",
    "\n",
    "# Fully connected layers\n",
    "combined_output = Dense(256, activation='relu')(combined_output)\n",
    "combined_output = Dropout(0.5)(combined_output)\n",
    "\n",
    "# Output layer\n",
    "output = Dense(100, activation='softmax')(combined_output)\n",
    "\n",
    "# Create the transfer learning model\n",
    "transfer_model = Model(inputs=input_layer, outputs=output)\n",
    "\n",
    "# Compile the transfer learning model\n",
    "transfer_model.compile(optimizer='adam', loss='sparse_categorical_crossentropy', metrics=['accuracy'])\n",
    "\n",
    "# Display the model summary\n",
    "transfer_model.summary()"
   ]
  },
  {
   "cell_type": "code",
   "execution_count": null,
   "metadata": {
    "colab": {
     "base_uri": "https://localhost:8080/"
    },
    "id": "0X72rhAqaLIB",
    "outputId": "2b69836e-1689-47fe-dd43-cd1f6d50cd25"
   },
   "outputs": [
    {
     "name": "stderr",
     "output_type": "stream",
     "text": [
      "/usr/local/lib/python3.10/dist-packages/tensorflow/python/data/ops/structured_function.py:258: UserWarning: Even though the `tf.config.experimental_run_functions_eagerly` option is set, this option does not apply to tf.data functions. To force eager execution of tf.data functions, please use `tf.data.experimental.enable_debug_mode()`.\n",
      "  warnings.warn(\n"
     ]
    },
    {
     "name": "stdout",
     "output_type": "stream",
     "text": [
      "Epoch 1/50\n",
      "625/625 [==============================] - 254s 406ms/step - loss: 3.6690 - accuracy: 0.1048 - val_loss: 3.0921 - val_accuracy: 0.1992 - lr: 0.0010\n",
      "Epoch 2/50\n",
      "625/625 [==============================] - 247s 395ms/step - loss: 3.1836 - accuracy: 0.1769 - val_loss: 2.9012 - val_accuracy: 0.2424 - lr: 0.0010\n",
      "Epoch 3/50\n",
      "625/625 [==============================] - 258s 413ms/step - loss: 2.9235 - accuracy: 0.2398 - val_loss: 2.9480 - val_accuracy: 0.2460 - lr: 0.0010\n",
      "Epoch 4/50\n",
      "625/625 [==============================] - 282s 451ms/step - loss: 2.6486 - accuracy: 0.3000 - val_loss: 2.3734 - val_accuracy: 0.3694 - lr: 0.0010\n",
      "Epoch 5/50\n",
      "625/625 [==============================] - 301s 481ms/step - loss: 2.3981 - accuracy: 0.3647 - val_loss: 2.3033 - val_accuracy: 0.3824 - lr: 0.0010\n",
      "Epoch 6/50\n",
      "625/625 [==============================] - 291s 465ms/step - loss: 2.1668 - accuracy: 0.4129 - val_loss: 2.1796 - val_accuracy: 0.4148 - lr: 0.0010\n",
      "Epoch 7/50\n",
      "625/625 [==============================] - 268s 429ms/step - loss: 1.9714 - accuracy: 0.4645 - val_loss: 2.1767 - val_accuracy: 0.4400 - lr: 0.0010\n",
      "Epoch 8/50\n",
      "625/625 [==============================] - 281s 449ms/step - loss: 1.7655 - accuracy: 0.5146 - val_loss: 2.1567 - val_accuracy: 0.4434 - lr: 0.0010\n",
      "Epoch 9/50\n",
      "625/625 [==============================] - 252s 403ms/step - loss: 1.5821 - accuracy: 0.5640 - val_loss: 2.0572 - val_accuracy: 0.4756 - lr: 0.0010\n",
      "Epoch 10/50\n",
      "625/625 [==============================] - 267s 428ms/step - loss: 1.4064 - accuracy: 0.6076 - val_loss: 2.2784 - val_accuracy: 0.4446 - lr: 0.0010\n",
      "Epoch 11/50\n",
      "625/625 [==============================] - 279s 446ms/step - loss: 1.2604 - accuracy: 0.6437 - val_loss: 2.0492 - val_accuracy: 0.4910 - lr: 0.0010\n",
      "Epoch 12/50\n",
      "625/625 [==============================] - 284s 455ms/step - loss: 1.1222 - accuracy: 0.6835 - val_loss: 2.4105 - val_accuracy: 0.4680 - lr: 0.0010\n",
      "Epoch 13/50\n",
      "625/625 [==============================] - 247s 396ms/step - loss: 0.9920 - accuracy: 0.7187 - val_loss: 2.3290 - val_accuracy: 0.4728 - lr: 0.0010\n",
      "Epoch 14/50\n",
      "625/625 [==============================] - 262s 420ms/step - loss: 0.8785 - accuracy: 0.7487 - val_loss: 2.2702 - val_accuracy: 0.4878 - lr: 0.0010\n",
      "Epoch 15/50\n",
      "625/625 [==============================] - 239s 382ms/step - loss: 0.5626 - accuracy: 0.8387 - val_loss: 2.1548 - val_accuracy: 0.5494 - lr: 2.0000e-04\n",
      "Epoch 16/50\n",
      "625/625 [==============================] - 241s 385ms/step - loss: 0.4207 - accuracy: 0.8781 - val_loss: 2.3072 - val_accuracy: 0.5490 - lr: 2.0000e-04\n"
     ]
    },
    {
     "data": {
      "text/plain": [
       "<keras.src.callbacks.History at 0x796a28867e50>"
      ]
     },
     "execution_count": 129,
     "metadata": {},
     "output_type": "execute_result"
    }
   ],
   "source": [
    "transfer_model.fit(x_block2_train, y_block2_train, epochs=50, validation_data=(x_block2_test, y_block2_test),callbacks=callbacks)"
   ]
  },
  {
   "cell_type": "markdown",
   "metadata": {
    "id": "-667_hYoKtiB"
   },
   "source": [
    "Saving the transfer Learning Model"
   ]
  },
  {
   "cell_type": "code",
   "execution_count": null,
   "metadata": {
    "colab": {
     "base_uri": "https://localhost:8080/"
    },
    "id": "CqiEYQd0KtPV",
    "outputId": "6d8fab1b-975b-416d-cab5-578bf230c357"
   },
   "outputs": [
    {
     "name": "stderr",
     "output_type": "stream",
     "text": [
      "<ipython-input-146-2a9a68f3f1db>:1: UserWarning: You are saving your model as an HDF5 file via `model.save()`. This file format is considered legacy. We recommend using instead the native Keras format, e.g. `model.save('my_model.keras')`.\n",
      "  save_model(transfer_model,'transfer_model.h5')\n"
     ]
    }
   ],
   "source": [
    "save_model(transfer_model,'transfer_model.h5')"
   ]
  },
  {
   "cell_type": "markdown",
   "metadata": {
    "id": "k8ac3cDE78Al"
   },
   "source": [
    "# Comparing the CNN model and Auto-Encoder Model on the Block 2 images"
   ]
  },
  {
   "cell_type": "markdown",
   "metadata": {
    "id": "CuC2-5oUFW4d"
   },
   "source": [
    "The same CNN model is run on block2 dataset images to compare its performance."
   ]
  },
  {
   "cell_type": "code",
   "execution_count": null,
   "metadata": {
    "colab": {
     "base_uri": "https://localhost:8080/"
    },
    "id": "5nJxTZn8JfQH",
    "outputId": "6fdd52fb-e594-4d2f-f7e9-3de8f34fb1de"
   },
   "outputs": [
    {
     "name": "stdout",
     "output_type": "stream",
     "text": [
      "Epoch 1/40\n",
      "625/625 [==============================] - 206s 329ms/step - loss: 3.8236 - accuracy: 0.0979 - val_loss: 3.6912 - val_accuracy: 0.1182 - lr: 0.0010\n",
      "Epoch 2/40\n",
      "625/625 [==============================] - 275s 441ms/step - loss: 3.2147 - accuracy: 0.1603 - val_loss: 3.2045 - val_accuracy: 0.1784 - lr: 0.0010\n",
      "Epoch 3/40\n",
      "625/625 [==============================] - 214s 342ms/step - loss: 3.0131 - accuracy: 0.1953 - val_loss: 3.1408 - val_accuracy: 0.1788 - lr: 0.0010\n",
      "Epoch 4/40\n",
      "625/625 [==============================] - 231s 369ms/step - loss: 2.8456 - accuracy: 0.2301 - val_loss: 2.5083 - val_accuracy: 0.3136 - lr: 0.0010\n",
      "Epoch 5/40\n",
      "625/625 [==============================] - 217s 346ms/step - loss: 2.7078 - accuracy: 0.2585 - val_loss: 2.5966 - val_accuracy: 0.3026 - lr: 0.0010\n",
      "Epoch 6/40\n",
      "625/625 [==============================] - 210s 336ms/step - loss: 2.5596 - accuracy: 0.2869 - val_loss: 2.3082 - val_accuracy: 0.3686 - lr: 0.0010\n",
      "Epoch 7/40\n",
      "625/625 [==============================] - 210s 336ms/step - loss: 2.4345 - accuracy: 0.3154 - val_loss: 2.2871 - val_accuracy: 0.3764 - lr: 0.0010\n",
      "Epoch 8/40\n",
      "625/625 [==============================] - 218s 349ms/step - loss: 2.2841 - accuracy: 0.3481 - val_loss: 2.2368 - val_accuracy: 0.3748 - lr: 0.0010\n",
      "Epoch 9/40\n",
      "625/625 [==============================] - 217s 347ms/step - loss: 2.1551 - accuracy: 0.3780 - val_loss: 2.2359 - val_accuracy: 0.3980 - lr: 0.0010\n",
      "Epoch 10/40\n",
      "625/625 [==============================] - 237s 379ms/step - loss: 1.9879 - accuracy: 0.4203 - val_loss: 2.1284 - val_accuracy: 0.4286 - lr: 0.0010\n",
      "Epoch 11/40\n",
      "625/625 [==============================] - 217s 348ms/step - loss: 1.8647 - accuracy: 0.4539 - val_loss: 2.0761 - val_accuracy: 0.4442 - lr: 0.0010\n",
      "Epoch 12/40\n",
      "625/625 [==============================] - 214s 343ms/step - loss: 1.7597 - accuracy: 0.4775 - val_loss: 2.1053 - val_accuracy: 0.4386 - lr: 0.0010\n",
      "Epoch 13/40\n",
      "625/625 [==============================] - 243s 388ms/step - loss: 1.6558 - accuracy: 0.5041 - val_loss: 2.1902 - val_accuracy: 0.4318 - lr: 0.0010\n",
      "Epoch 14/40\n",
      "625/625 [==============================] - 218s 349ms/step - loss: 1.5300 - accuracy: 0.5368 - val_loss: 2.2834 - val_accuracy: 0.4606 - lr: 0.0010\n",
      "Epoch 15/40\n",
      "625/625 [==============================] - 216s 346ms/step - loss: 1.2234 - accuracy: 0.6140 - val_loss: 1.8795 - val_accuracy: 0.5212 - lr: 2.0000e-04\n",
      "Epoch 16/40\n",
      "625/625 [==============================] - 231s 370ms/step - loss: 1.0842 - accuracy: 0.6488 - val_loss: 1.9358 - val_accuracy: 0.5294 - lr: 2.0000e-04\n",
      "Epoch 17/40\n",
      "625/625 [==============================] - 228s 365ms/step - loss: 0.9930 - accuracy: 0.6744 - val_loss: 1.9332 - val_accuracy: 0.5352 - lr: 2.0000e-04\n",
      "Epoch 18/40\n",
      "625/625 [==============================] - 236s 377ms/step - loss: 0.9150 - accuracy: 0.7037 - val_loss: 1.9457 - val_accuracy: 0.5400 - lr: 2.0000e-04\n",
      "Epoch 19/40\n",
      "625/625 [==============================] - 206s 330ms/step - loss: 0.8463 - accuracy: 0.7147 - val_loss: 1.9717 - val_accuracy: 0.5448 - lr: 4.0000e-05\n",
      "Epoch 20/40\n",
      "625/625 [==============================] - 214s 342ms/step - loss: 0.8129 - accuracy: 0.7304 - val_loss: 2.0028 - val_accuracy: 0.5390 - lr: 4.0000e-05\n"
     ]
    },
    {
     "data": {
      "text/plain": [
       "<keras.src.callbacks.History at 0x796a1ef7cbe0>"
      ]
     },
     "execution_count": 134,
     "metadata": {},
     "output_type": "execute_result"
    }
   ],
   "source": [
    "# CNN Model\n",
    "model_on_block2 = model\n",
    "model_on_block2.fit(x_block2_train,y_block2_train,epochs=40,validation_data=(x_block2_test,y_block2_test),callbacks=callbacks)"
   ]
  },
  {
   "cell_type": "markdown",
   "metadata": {
    "id": "EAGXJugsF6yV"
   },
   "source": [
    "Similary the autoencoder model is tested on block 2 images."
   ]
  },
  {
   "cell_type": "code",
   "execution_count": 14,
   "metadata": {
    "colab": {
     "base_uri": "https://localhost:8080/"
    },
    "id": "FkVH6fEe8Tnq",
    "outputId": "dea352fc-4e20-4a95-981d-f13eef366ade"
   },
   "outputs": [
    {
     "name": "stdout",
     "output_type": "stream",
     "text": [
      "Epoch 1/15\n",
      "125/125 [==============================] - 127s 1s/step - loss: 19946.5723 - accuracy: 0.5040 - val_loss: 19944.9102 - val_accuracy: 0.4518\n",
      "Epoch 2/15\n",
      "125/125 [==============================] - 119s 955ms/step - loss: 19931.2441 - accuracy: 0.5506 - val_loss: 19973.0352 - val_accuracy: 0.4756\n",
      "Epoch 3/15\n",
      "125/125 [==============================] - 123s 989ms/step - loss: 19930.4336 - accuracy: 0.5436 - val_loss: 19944.5488 - val_accuracy: 0.5494\n",
      "Epoch 4/15\n",
      "125/125 [==============================] - 117s 936ms/step - loss: 19930.3008 - accuracy: 0.5208 - val_loss: 19944.3047 - val_accuracy: 0.5382\n",
      "Epoch 5/15\n",
      "125/125 [==============================] - 112s 897ms/step - loss: 19930.2891 - accuracy: 0.5180 - val_loss: 19973.3457 - val_accuracy: 0.4328\n",
      "Epoch 6/15\n",
      "125/125 [==============================] - 123s 981ms/step - loss: 19930.1895 - accuracy: 0.4802 - val_loss: 19944.2402 - val_accuracy: 0.4343\n",
      "Epoch 7/15\n",
      "125/125 [==============================] - 116s 930ms/step - loss: 19930.1289 - accuracy: 0.5101 - val_loss: 19944.2285 - val_accuracy: 0.5289\n",
      "Epoch 8/15\n",
      "125/125 [==============================] - 116s 926ms/step - loss: 19930.1172 - accuracy: 0.5187 - val_loss: 19944.2266 - val_accuracy: 0.5306\n",
      "Epoch 9/15\n",
      "125/125 [==============================] - 117s 938ms/step - loss: 19930.1660 - accuracy: 0.5007 - val_loss: 19944.2285 - val_accuracy: 0.5316\n",
      "Epoch 10/15\n",
      "125/125 [==============================] - 117s 937ms/step - loss: 19930.1230 - accuracy: 0.5174 - val_loss: 19944.2305 - val_accuracy: 0.5370\n",
      "Epoch 11/15\n",
      "125/125 [==============================] - 113s 902ms/step - loss: 19930.1133 - accuracy: 0.5209 - val_loss: 19944.2324 - val_accuracy: 0.5353\n",
      "Epoch 12/15\n",
      "125/125 [==============================] - 117s 934ms/step - loss: 19930.1035 - accuracy: 0.5133 - val_loss: 19944.2227 - val_accuracy: 0.5013\n",
      "Epoch 13/15\n",
      "125/125 [==============================] - 116s 930ms/step - loss: 19930.1055 - accuracy: 0.5086 - val_loss: 19944.2207 - val_accuracy: 0.5119\n",
      "Epoch 14/15\n",
      "125/125 [==============================] - 116s 931ms/step - loss: 19930.1094 - accuracy: 0.5046 - val_loss: 19944.2207 - val_accuracy: 0.5019\n",
      "Epoch 15/15\n",
      "125/125 [==============================] - 118s 942ms/step - loss: 19930.1035 - accuracy: 0.5008 - val_loss: 19944.2207 - val_accuracy: 0.5028\n"
     ]
    },
    {
     "data": {
      "text/plain": [
       "<keras.src.callbacks.History at 0x79d014e023e0>"
      ]
     },
     "execution_count": 14,
     "metadata": {},
     "output_type": "execute_result"
    }
   ],
   "source": [
    "# Testing the AutoEncoder Model on block2 images dataset\n",
    "auto_encoder_model_on_block2 = autoencoder\n",
    "auto_encoder_model_on_block2.fit(x_block2_train, x_block2_train,\n",
    "                epochs=15,\n",
    "                batch_size=128,\n",
    "                validation_split=0.2)"
   ]
  }
 ],
 "metadata": {
  "accelerator": "TPU",
  "colab": {
   "gpuType": "V28",
   "provenance": []
  },
  "kernelspec": {
   "display_name": "Python 3 (ipykernel)",
   "language": "python",
   "name": "python3"
  },
  "language_info": {
   "codemirror_mode": {
    "name": "ipython",
    "version": 3
   },
   "file_extension": ".py",
   "mimetype": "text/x-python",
   "name": "python",
   "nbconvert_exporter": "python",
   "pygments_lexer": "ipython3",
   "version": "3.11.5"
  }
 },
 "nbformat": 4,
 "nbformat_minor": 4
}
